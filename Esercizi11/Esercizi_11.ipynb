{
 "cells": [
  {
   "cell_type": "markdown",
   "metadata": {
    "id": "jmvE2wU5E7c-"
   },
   "source": [
    "# <span style=\"color:green\"> Numerical Simulation Laboratory (NSL) </span>\n",
    "## Brandon Tatani - 931529\n",
    "## <span style=\"color:blue\">  Numerical exercises 11</span>"
   ]
  },
  {
   "cell_type": "markdown",
   "metadata": {
    "id": "gkT3mZz1E7dU"
   },
   "source": [
    "### Exercise 11.1\n",
    "\n",
    "In order to make practice with NN, explore how does the previous linear regression depend on the number of epochs, $N_{\\mathrm{epochs}}$, the number of data points $N_{\\mathrm{train}}$ and on the noise $\\sigma$. Try to improve the previous result operating on these parameters."
   ]
  },
  {
   "cell_type": "markdown",
   "metadata": {
    "id": "gitIPdYOE7do"
   },
   "source": [
    "### Linear fit\n",
    "\n",
    "We start by considering the very simple case:\n",
    "$$\n",
    "f(x)=2x+1\n",
    "$$"
   ]
  },
  {
   "cell_type": "code",
   "execution_count": 130,
   "metadata": {
    "executionInfo": {
     "elapsed": 421,
     "status": "ok",
     "timestamp": 1625676090768,
     "user": {
      "displayName": "Brandon Tatani",
      "photoUrl": "",
      "userId": "12981437968527834494"
     },
     "user_tz": -120
    },
    "id": "eAye8nKhE7dq"
   },
   "outputs": [],
   "source": [
    "# target parameters of f(x) = m*x + b\n",
    "m = 2 # slope\n",
    "b = 1 # intersect"
   ]
  },
  {
   "cell_type": "code",
   "execution_count": 131,
   "metadata": {
    "executionInfo": {
     "elapsed": 549,
     "status": "ok",
     "timestamp": 1625676097452,
     "user": {
      "displayName": "Brandon Tatani",
      "photoUrl": "",
      "userId": "12981437968527834494"
     },
     "user_tz": -120
    },
    "id": "HECeYRYIE7ds"
   },
   "outputs": [],
   "source": [
    "import numpy as np\n",
    "\n",
    "# generate training inputs\n",
    "np.random.seed(0)\n",
    "N_train=2000\n",
    "x_train = np.random.uniform(-1, 1, N_train)\n",
    "x_valid = np.random.uniform(-1, 1, 50)\n",
    "x_valid.sort()\n",
    "y_target = m * x_valid + b # ideal (target) linear function\n",
    "\n",
    "sigma = 0.5 # noise standard deviation, for the moment it is absent\n",
    "y_train = np.random.normal(m * x_train + b, sigma) # actual measures from which we want to guess regression parameters\n",
    "y_valid = np.random.normal(m * x_valid + b, sigma)"
   ]
  },
  {
   "cell_type": "code",
   "execution_count": 132,
   "metadata": {
    "colab": {
     "base_uri": "https://localhost:8080/",
     "height": 265
    },
    "executionInfo": {
     "elapsed": 27,
     "status": "ok",
     "timestamp": 1625676099189,
     "user": {
      "displayName": "Brandon Tatani",
      "photoUrl": "",
      "userId": "12981437968527834494"
     },
     "user_tz": -120
    },
    "id": "fK0OFiYME7dy",
    "outputId": "37bbcf3b-dac8-46f5-c523-6bc090567777"
   },
   "outputs": [
    {
     "data": {
      "image/png": "[encoded data removed]",
      "text/plain": [
       "<Figure size 432x288 with 1 Axes>"
      ]
     },
     "metadata": {
      "needs_background": "light",
      "tags": []
     },
     "output_type": "display_data"
    }
   ],
   "source": [
    "# plot validation and target dataset\n",
    "import matplotlib.pyplot as plt\n",
    "plt.plot(x_valid, y_target, label='target')\n",
    "plt.scatter(x_valid, y_valid, color='r', label='validation data')\n",
    "plt.legend()\n",
    "plt.grid(True)\n",
    "plt.show()"
   ]
  },
  {
   "cell_type": "code",
   "execution_count": 133,
   "metadata": {
    "executionInfo": {
     "elapsed": 663,
     "status": "ok",
     "timestamp": 1625676105111,
     "user": {
      "displayName": "Brandon Tatani",
      "photoUrl": "",
      "userId": "12981437968527834494"
     },
     "user_tz": -120
    },
    "id": "NM72zdjpE7dz"
   },
   "outputs": [],
   "source": [
    "# compose the NN model\n",
    "import tensorflow as tf\n",
    "from tensorflow import keras\n",
    "\n",
    "from tensorflow.keras.models import Sequential\n",
    "from tensorflow.keras.layers import Dense, Activation\n",
    "from tensorflow.keras import backend as K\n",
    "from tensorflow.keras.utils import get_custom_objects\n",
    "\n",
    "model = tf.keras.Sequential()\n",
    "model.add(Dense(1, input_shape=(1,)))\n",
    "\n",
    "# compile the model choosing optimizer, loss and metrics objects\n",
    "model.compile(optimizer='sgd', loss='mse', metrics=['mse'])"
   ]
  },
  {
   "cell_type": "code",
   "execution_count": 134,
   "metadata": {
    "colab": {
     "base_uri": "https://localhost:8080/"
    },
    "executionInfo": {
     "elapsed": 505,
     "status": "ok",
     "timestamp": 1625676107657,
     "user": {
      "displayName": "Brandon Tatani",
      "photoUrl": "",
      "userId": "12981437968527834494"
     },
     "user_tz": -120
    },
    "id": "AQYTpanzE7d5",
    "outputId": "064cb297-92af-4902-e1d6-7b2859330ee5"
   },
   "outputs": [
    {
     "name": "stdout",
     "output_type": "stream",
     "text": [
      "Model: \"sequential_17\"\n",
      "_________________________________________________________________\n",
      "Layer (type)                 Output Shape              Param #   \n",
      "=================================================================\n",
      "dense_99 (Dense)             (None, 1)                 2         \n",
      "=================================================================\n",
      "Total params: 2\n",
      "Trainable params: 2\n",
      "Non-trainable params: 0\n",
      "_________________________________________________________________\n"
     ]
    }
   ],
   "source": [
    "# get a summary of our composed model\n",
    "model.summary()"
   ]
  },
  {
   "cell_type": "code",
   "execution_count": 135,
   "metadata": {
    "colab": {
     "base_uri": "https://localhost:8080/"
    },
    "executionInfo": {
     "elapsed": 3394,
     "status": "ok",
     "timestamp": 1625676112627,
     "user": {
      "displayName": "Brandon Tatani",
      "photoUrl": "",
      "userId": "12981437968527834494"
     },
     "user_tz": -120
    },
    "id": "1CS3IlfaE7eD",
    "outputId": "e2692316-b3ff-4c9d-8e75-a54312731498"
   },
   "outputs": [
    {
     "name": "stdout",
     "output_type": "stream",
     "text": [
      "Epoch 1/20\n",
      "63/63 [==============================] - 0s 3ms/step - loss: 2.6982 - mse: 2.6982 - val_loss: 1.5161 - val_mse: 1.5161\n",
      "Epoch 2/20\n",
      "63/63 [==============================] - 0s 2ms/step - loss: 1.1300 - mse: 1.1300 - val_loss: 0.7802 - val_mse: 0.7802\n",
      "Epoch 3/20\n",
      "63/63 [==============================] - 0s 2ms/step - loss: 0.5974 - mse: 0.5974 - val_loss: 0.4762 - val_mse: 0.4762\n",
      "Epoch 4/20\n",
      "63/63 [==============================] - 0s 1ms/step - loss: 0.3879 - mse: 0.3879 - val_loss: 0.3438 - val_mse: 0.3438\n",
      "Epoch 5/20\n",
      "63/63 [==============================] - 0s 1ms/step - loss: 0.3012 - mse: 0.3012 - val_loss: 0.2867 - val_mse: 0.2867\n",
      "Epoch 6/20\n",
      "63/63 [==============================] - 0s 2ms/step - loss: 0.2651 - mse: 0.2651 - val_loss: 0.2607 - val_mse: 0.2607\n",
      "Epoch 7/20\n",
      "63/63 [==============================] - 0s 1ms/step - loss: 0.2504 - mse: 0.2504 - val_loss: 0.2491 - val_mse: 0.2491\n",
      "Epoch 8/20\n",
      "63/63 [==============================] - 0s 2ms/step - loss: 0.2443 - mse: 0.2443 - val_loss: 0.2438 - val_mse: 0.2438\n",
      "Epoch 9/20\n",
      "63/63 [==============================] - 0s 1ms/step - loss: 0.2419 - mse: 0.2419 - val_loss: 0.2409 - val_mse: 0.2409\n",
      "Epoch 10/20\n",
      "63/63 [==============================] - 0s 1ms/step - loss: 0.2407 - mse: 0.2407 - val_loss: 0.2395 - val_mse: 0.2395\n",
      "Epoch 11/20\n",
      "63/63 [==============================] - 0s 1ms/step - loss: 0.2403 - mse: 0.2403 - val_loss: 0.2387 - val_mse: 0.2387\n",
      "Epoch 12/20\n",
      "63/63 [==============================] - 0s 1ms/step - loss: 0.2401 - mse: 0.2401 - val_loss: 0.2383 - val_mse: 0.2383\n",
      "Epoch 13/20\n",
      "63/63 [==============================] - 0s 1ms/step - loss: 0.2401 - mse: 0.2401 - val_loss: 0.2379 - val_mse: 0.2379\n",
      "Epoch 14/20\n",
      "63/63 [==============================] - 0s 1ms/step - loss: 0.2400 - mse: 0.2400 - val_loss: 0.2378 - val_mse: 0.2378\n",
      "Epoch 15/20\n",
      "63/63 [==============================] - 0s 1ms/step - loss: 0.2400 - mse: 0.2400 - val_loss: 0.2378 - val_mse: 0.2378\n",
      "Epoch 16/20\n",
      "63/63 [==============================] - 0s 1ms/step - loss: 0.2400 - mse: 0.2400 - val_loss: 0.2377 - val_mse: 0.2377\n",
      "Epoch 17/20\n",
      "63/63 [==============================] - 0s 1ms/step - loss: 0.2400 - mse: 0.2400 - val_loss: 0.2376 - val_mse: 0.2376\n",
      "Epoch 18/20\n",
      "63/63 [==============================] - 0s 1ms/step - loss: 0.2400 - mse: 0.2400 - val_loss: 0.2377 - val_mse: 0.2377\n",
      "Epoch 19/20\n",
      "63/63 [==============================] - 0s 1ms/step - loss: 0.2401 - mse: 0.2401 - val_loss: 0.2377 - val_mse: 0.2377\n",
      "Epoch 20/20\n",
      "63/63 [==============================] - 0s 1ms/step - loss: 0.2400 - mse: 0.2400 - val_loss: 0.2376 - val_mse: 0.2376\n"
     ]
    }
   ],
   "source": [
    "# fit the model using training dataset\n",
    "# over 10 epochs of 32 batch size each\n",
    "# report training progress against validation data\n",
    "history = model.fit(x=x_train, y=y_train, \n",
    "          batch_size=32, epochs=20,\n",
    "          shuffle=True, # a good idea is to shuffle input before at each epoch\n",
    "          validation_data=(x_valid, y_valid))"
   ]
  },
  {
   "cell_type": "code",
   "execution_count": 136,
   "metadata": {
    "colab": {
     "base_uri": "https://localhost:8080/"
    },
    "executionInfo": {
     "elapsed": 412,
     "status": "ok",
     "timestamp": 1625676115753,
     "user": {
      "displayName": "Brandon Tatani",
      "photoUrl": "",
      "userId": "12981437968527834494"
     },
     "user_tz": -120
    },
    "id": "PxvCHcn3E7eJ",
    "outputId": "738c2772-b784-40c9-f38c-b61dfa8516d7"
   },
   "outputs": [
    {
     "data": {
      "text/plain": [
       "[array([[2.03906]], dtype=float32), array([0.9870951], dtype=float32)]"
      ]
     },
     "execution_count": 136,
     "metadata": {
      "tags": []
     },
     "output_type": "execute_result"
    }
   ],
   "source": [
    "# return weights and biases\n",
    "model.get_weights()"
   ]
  },
  {
   "cell_type": "code",
   "execution_count": 137,
   "metadata": {
    "colab": {
     "base_uri": "https://localhost:8080/"
    },
    "executionInfo": {
     "elapsed": 22,
     "status": "ok",
     "timestamp": 1625676117391,
     "user": {
      "displayName": "Brandon Tatani",
      "photoUrl": "",
      "userId": "12981437968527834494"
     },
     "user_tz": -120
    },
    "id": "u5odUTTIE7eN",
    "outputId": "872629a6-8adb-4869-8a27-5f626bd03163"
   },
   "outputs": [
    {
     "name": "stdout",
     "output_type": "stream",
     "text": [
      "2/2 [==============================] - 0s 4ms/step - loss: 0.2376 - mse: 0.2376\n",
      "\n",
      "Test loss: 0.23760803043842316\n",
      "Test accuracy: 0.23760803043842316\n"
     ]
    }
   ],
   "source": [
    "# evaluate model\n",
    "score = model.evaluate(x_valid, y_valid, batch_size=32, verbose=1)\n",
    "\n",
    "# print performance\n",
    "print()\n",
    "print('Test loss:', score[0])\n",
    "print('Test accuracy:', score[1])"
   ]
  },
  {
   "cell_type": "code",
   "execution_count": 138,
   "metadata": {
    "colab": {
     "base_uri": "https://localhost:8080/"
    },
    "executionInfo": {
     "elapsed": 22,
     "status": "ok",
     "timestamp": 1625676119036,
     "user": {
      "displayName": "Brandon Tatani",
      "photoUrl": "",
      "userId": "12981437968527834494"
     },
     "user_tz": -120
    },
    "id": "On_hyWHqE7eW",
    "outputId": "5f267e5a-1577-43b1-cb55-728613072887"
   },
   "outputs": [
    {
     "name": "stdout",
     "output_type": "stream",
     "text": [
      "2/2 [==============================] - 0s 5ms/step - loss: 7.6831e-04 - mse: 7.6831e-04\n",
      "\n",
      "Test loss: 0.0007683061994612217\n",
      "Test accuracy: 0.0007683061994612217\n"
     ]
    }
   ],
   "source": [
    "# evaluate model with the exact curve\n",
    "score = model.evaluate(x_valid, y_target, batch_size=32, verbose=1)\n",
    "\n",
    "# print performance\n",
    "print()\n",
    "print('Test loss:', score[0])\n",
    "print('Test accuracy:', score[1])"
   ]
  },
  {
   "cell_type": "code",
   "execution_count": 139,
   "metadata": {
    "colab": {
     "base_uri": "https://localhost:8080/",
     "height": 295
    },
    "executionInfo": {
     "elapsed": 27,
     "status": "ok",
     "timestamp": 1625676120944,
     "user": {
      "displayName": "Brandon Tatani",
      "photoUrl": "",
      "userId": "12981437968527834494"
     },
     "user_tz": -120
    },
    "id": "q_Iy2AaPE7eY",
    "outputId": "1bad5fd4-797d-4e5f-b3fd-015ddb95646d"
   },
   "outputs": [
    {
     "data": {
      "image/png": "[encoded data removed]",
      "text/plain": [
       "<Figure size 432x288 with 1 Axes>"
      ]
     },
     "metadata": {
      "needs_background": "light",
      "tags": []
     },
     "output_type": "display_data"
    }
   ],
   "source": [
    "# look into training history\n",
    "# Plot training & validation loss values\n",
    "plt.plot(history.history['loss'])\n",
    "plt.plot(history.history['val_loss'])\n",
    "plt.title('Model loss')\n",
    "plt.ylabel('Loss')\n",
    "plt.xlabel('Epoch')\n",
    "plt.legend(['Train', 'Test'], loc='best')\n",
    "plt.show()"
   ]
  },
  {
   "cell_type": "code",
   "execution_count": 140,
   "metadata": {
    "colab": {
     "base_uri": "https://localhost:8080/",
     "height": 265
    },
    "executionInfo": {
     "elapsed": 451,
     "status": "ok",
     "timestamp": 1625676123825,
     "user": {
      "displayName": "Brandon Tatani",
      "photoUrl": "",
      "userId": "12981437968527834494"
     },
     "user_tz": -120
    },
    "id": "EQRpZmx-E7ec",
    "outputId": "f75187e9-fcb2-4613-9b40-e1dcbae3d780"
   },
   "outputs": [
    {
     "data": {
      "image/png": "[encoded data removed]",
      "text/plain": [
       "<Figure size 432x288 with 1 Axes>"
      ]
     },
     "metadata": {
      "needs_background": "light",
      "tags": []
     },
     "output_type": "display_data"
    }
   ],
   "source": [
    "x_predicted = np.random.uniform(-1, 1, 100)\n",
    "y_predicted = model.predict(x_predicted)\n",
    "plt.scatter(x_predicted, y_predicted,color='r')\n",
    "plt.plot(x_valid, y_target)\n",
    "plt.grid(True)\n",
    "plt.show()"
   ]
  },
  {
   "cell_type": "markdown",
   "metadata": {
    "id": "CKHe_SfCE7ee"
   },
   "source": [
    "### Exercise 11.2\n",
    "\n",
    "Try to extend the model to obtain a reasonable fit of the following polynomial of order 3:\n",
    "\n",
    "$$\n",
    "f(x)=4-3x-2x^2+3x^3\n",
    "$$\n",
    "for $x \\in [-1,1]$.\n",
    "\n",
    "In order to make practice with NN, explore reasonable different choices for:\n",
    "\n",
    "- the number of layers\n",
    "- the number of neurons in each layer\n",
    "- the activation function\n",
    "- the optimizer\n",
    "- the loss function\n",
    "  \n",
    "Make graphs comparing fits for different NNs.\n",
    "Check your NN models by seeing how well your fits predict newly generated test data (including on data outside the range you fit. How well do your NN do on points in the range of $x$ where you trained the model? How about points outside the original training data set? \n",
    "Summarize what you have learned about the relationship between model complexity (number of parameters), goodness of fit on training data, and the ability to predict well."
   ]
  },
  {
   "cell_type": "code",
   "execution_count": 56,
   "metadata": {
    "id": "dEFwxS2WE7er"
   },
   "outputs": [],
   "source": [
    "# target parameters of f(x) = ax^3 + b<^2 + cx + d\n",
    "a = 3 # slope\n",
    "b = -2 # intersect\n",
    "c = -3\n",
    "d = 4"
   ]
  },
  {
   "cell_type": "code",
   "execution_count": 57,
   "metadata": {
    "id": "T6eIZ6haE7e3"
   },
   "outputs": [],
   "source": [
    "import numpy as np\n",
    "\n",
    "# generate training inputs\n",
    "np.random.seed(0)\n",
    "x_train = np.random.uniform(-1, 1, 3000)\n",
    "x_valid = np.random.uniform(-1, 1, 100)\n",
    "x_valid.sort()\n",
    "y_target = a*x_valid**3 + b*x_valid**2 + c*x_valid + d # ideal (target) cubic function\n",
    "\n",
    "sigma = 0.5 # noise standard deviation, for the moment it is absent\n",
    "y_train = np.random.normal(a*x_train**3 + b*x_train**2 + c*x_train + d, sigma) # actual measures from which we want to guess regression parameters\n",
    "y_valid = np.random.normal(a*x_valid**3 + b*x_valid**2 + c*x_valid + d, sigma)"
   ]
  },
  {
   "cell_type": "code",
   "execution_count": 58,
   "metadata": {
    "colab": {
     "base_uri": "https://localhost:8080/",
     "height": 265
    },
    "executionInfo": {
     "elapsed": 15,
     "status": "ok",
     "timestamp": 1625668989175,
     "user": {
      "displayName": "Brandon Tatani",
      "photoUrl": "",
      "userId": "12981437968527834494"
     },
     "user_tz": -120
    },
    "id": "e2iUsXdTE7e4",
    "outputId": "db385019-075b-4618-d808-fe483d78d128"
   },
   "outputs": [
    {
     "data": {
      "image/png": "[encoded data removed]",
      "text/plain": [
       "<Figure size 432x288 with 1 Axes>"
      ]
     },
     "metadata": {
      "needs_background": "light"
     },
     "output_type": "display_data"
    }
   ],
   "source": [
    "# plot validation and target dataset\n",
    "import matplotlib.pyplot as plt\n",
    "plt.plot(x_valid, y_target, label='target')\n",
    "plt.scatter(x_valid, y_valid, color='r', label='validation data')\n",
    "plt.legend()\n",
    "plt.grid(True)\n",
    "plt.show()"
   ]
  },
  {
   "cell_type": "code",
   "execution_count": 122,
   "metadata": {
    "id": "F9X2TPRfE7e-"
   },
   "outputs": [],
   "source": [
    "# compose the NN model\n",
    "import tensorflow as tf\n",
    "from tensorflow import keras\n",
    "\n",
    "from tensorflow.keras.models import Sequential\n",
    "from tensorflow.keras.layers import Dense, Activation\n",
    "from tensorflow.keras import backend as K\n",
    "from tensorflow.keras.utils import get_custom_objects\n",
    "\n",
    "model = tf.keras.Sequential()\n",
    "model.add(Dense(1, input_shape=(1,)))\n",
    "model.add(Dense(2, activation='elu'))\n",
    "model.add(Dense(3, activation='elu'))\n",
    "model.add(Dense(4, activation='elu'))\n",
    "model.add(Dense(1, activation='elu'))\n",
    "\n",
    "# compile the model choosing optimizer, loss and metrics objects\n",
    "model.compile(optimizer='sgd', loss='mse', metrics=['mse'])"
   ]
  },
  {
   "cell_type": "code",
   "execution_count": 123,
   "metadata": {
    "colab": {
     "base_uri": "https://localhost:8080/"
    },
    "executionInfo": {
     "elapsed": 5,
     "status": "ok",
     "timestamp": 1625668999269,
     "user": {
      "displayName": "Brandon Tatani",
      "photoUrl": "",
      "userId": "12981437968527834494"
     },
     "user_tz": -120
    },
    "id": "831kPDKzE7fA",
    "outputId": "1d5ff5c8-1dbc-49e7-f403-4aadc14607d7",
    "scrolled": true
   },
   "outputs": [
    {
     "name": "stdout",
     "output_type": "stream",
     "text": [
      "Model: \"sequential_20\"\n",
      "_________________________________________________________________\n",
      "Layer (type)                 Output Shape              Param #   \n",
      "=================================================================\n",
      "dense_99 (Dense)             (None, 1)                 2         \n",
      "_________________________________________________________________\n",
      "dense_100 (Dense)            (None, 2)                 4         \n",
      "_________________________________________________________________\n",
      "dense_101 (Dense)            (None, 3)                 9         \n",
      "_________________________________________________________________\n",
      "dense_102 (Dense)            (None, 4)                 16        \n",
      "_________________________________________________________________\n",
      "dense_103 (Dense)            (None, 1)                 5         \n",
      "=================================================================\n",
      "Total params: 36\n",
      "Trainable params: 36\n",
      "Non-trainable params: 0\n",
      "_________________________________________________________________\n"
     ]
    }
   ],
   "source": [
    "# get a summary of our composed model\n",
    "model.summary()"
   ]
  },
  {
   "cell_type": "code",
   "execution_count": 124,
   "metadata": {
    "colab": {
     "base_uri": "https://localhost:8080/"
    },
    "executionInfo": {
     "elapsed": 80098,
     "status": "ok",
     "timestamp": 1625669088559,
     "user": {
      "displayName": "Brandon Tatani",
      "photoUrl": "",
      "userId": "12981437968527834494"
     },
     "user_tz": -120
    },
    "id": "-CqcDxXiE7fG",
    "outputId": "2f01a460-a6f6-4c5e-fffa-7eb25a10b149",
    "scrolled": true
   },
   "outputs": [
    {
     "name": "stdout",
     "output_type": "stream",
     "text": [
      "Epoch 1/100\n",
      "94/94 [==============================] - 1s 11ms/step - loss: 1.9288 - mse: 1.9288 - val_loss: 0.6418 - val_mse: 0.6418\n",
      "Epoch 2/100\n",
      "94/94 [==============================] - 1s 9ms/step - loss: 0.6305 - mse: 0.6305 - val_loss: 0.4193 - val_mse: 0.4193\n",
      "Epoch 3/100\n",
      "94/94 [==============================] - 1s 9ms/step - loss: 0.5455 - mse: 0.5455 - val_loss: 0.4095 - val_mse: 0.4095\n",
      "Epoch 4/100\n",
      "94/94 [==============================] - 1s 10ms/step - loss: 0.4836 - mse: 0.4836 - val_loss: 0.3537 - val_mse: 0.3537\n",
      "Epoch 5/100\n",
      "94/94 [==============================] - 1s 10ms/step - loss: 0.3984 - mse: 0.3984 - val_loss: 0.3271 - val_mse: 0.3271\n",
      "Epoch 6/100\n",
      "94/94 [==============================] - 1s 11ms/step - loss: 0.3278 - mse: 0.3278 - val_loss: 0.3074 - val_mse: 0.3074\n",
      "Epoch 7/100\n",
      "94/94 [==============================] - 1s 11ms/step - loss: 0.2930 - mse: 0.2930 - val_loss: 0.2979 - val_mse: 0.2979\n",
      "Epoch 8/100\n",
      "94/94 [==============================] - 1s 11ms/step - loss: 0.2780 - mse: 0.2780 - val_loss: 0.2931 - val_mse: 0.2931\n",
      "Epoch 9/100\n",
      "94/94 [==============================] - 1s 12ms/step - loss: 0.2714 - mse: 0.2714 - val_loss: 0.2944 - val_mse: 0.2944\n",
      "Epoch 10/100\n",
      "94/94 [==============================] - 1s 14ms/step - loss: 0.2655 - mse: 0.2655 - val_loss: 0.2899 - val_mse: 0.2899\n",
      "Epoch 11/100\n",
      "94/94 [==============================] - 1s 11ms/step - loss: 0.2622 - mse: 0.2622 - val_loss: 0.2902 - val_mse: 0.2902\n",
      "Epoch 12/100\n",
      "94/94 [==============================] - 1s 11ms/step - loss: 0.2602 - mse: 0.2602 - val_loss: 0.2813 - val_mse: 0.2813\n",
      "Epoch 13/100\n",
      "94/94 [==============================] - 1s 12ms/step - loss: 0.2589 - mse: 0.2589 - val_loss: 0.2732 - val_mse: 0.2732\n",
      "Epoch 14/100\n",
      "94/94 [==============================] - 1s 12ms/step - loss: 0.2581 - mse: 0.2581 - val_loss: 0.2758 - val_mse: 0.2758\n",
      "Epoch 15/100\n",
      "94/94 [==============================] - 1s 12ms/step - loss: 0.2574 - mse: 0.2574 - val_loss: 0.2731 - val_mse: 0.2731\n",
      "Epoch 16/100\n",
      "94/94 [==============================] - 1s 14ms/step - loss: 0.2561 - mse: 0.2561 - val_loss: 0.2690 - val_mse: 0.2690\n",
      "Epoch 17/100\n",
      "94/94 [==============================] - 1s 12ms/step - loss: 0.2555 - mse: 0.2555 - val_loss: 0.2721 - val_mse: 0.2721\n",
      "Epoch 18/100\n",
      "94/94 [==============================] - 1s 11ms/step - loss: 0.2550 - mse: 0.2550 - val_loss: 0.2870 - val_mse: 0.2870\n",
      "Epoch 19/100\n",
      "94/94 [==============================] - 1s 13ms/step - loss: 0.2541 - mse: 0.2541 - val_loss: 0.2692 - val_mse: 0.2692\n",
      "Epoch 20/100\n",
      "94/94 [==============================] - 1s 13ms/step - loss: 0.2552 - mse: 0.2552 - val_loss: 0.2729 - val_mse: 0.2729\n",
      "Epoch 21/100\n",
      "94/94 [==============================] - 1s 11ms/step - loss: 0.2544 - mse: 0.2544 - val_loss: 0.2664 - val_mse: 0.2664\n",
      "Epoch 22/100\n",
      "94/94 [==============================] - 1s 11ms/step - loss: 0.2548 - mse: 0.2548 - val_loss: 0.2643 - val_mse: 0.2643\n",
      "Epoch 23/100\n",
      "94/94 [==============================] - 1s 13ms/step - loss: 0.2540 - mse: 0.2540 - val_loss: 0.2802 - val_mse: 0.2802\n",
      "Epoch 24/100\n",
      "94/94 [==============================] - 1s 11ms/step - loss: 0.2549 - mse: 0.2549 - val_loss: 0.2819 - val_mse: 0.2819\n",
      "Epoch 25/100\n",
      "94/94 [==============================] - 1s 11ms/step - loss: 0.2534 - mse: 0.2534 - val_loss: 0.2639 - val_mse: 0.2639\n",
      "Epoch 26/100\n",
      "94/94 [==============================] - 1s 12ms/step - loss: 0.2533 - mse: 0.2533 - val_loss: 0.2614 - val_mse: 0.2614\n",
      "Epoch 27/100\n",
      "94/94 [==============================] - 1s 14ms/step - loss: 0.2526 - mse: 0.2526 - val_loss: 0.2849 - val_mse: 0.2849\n",
      "Epoch 28/100\n",
      "94/94 [==============================] - 1s 13ms/step - loss: 0.2543 - mse: 0.2543 - val_loss: 0.2643 - val_mse: 0.2643\n",
      "Epoch 29/100\n",
      "94/94 [==============================] - 1s 13ms/step - loss: 0.2541 - mse: 0.2541 - val_loss: 0.2687 - val_mse: 0.2687\n",
      "Epoch 30/100\n",
      "94/94 [==============================] - 1s 12ms/step - loss: 0.2540 - mse: 0.2540 - val_loss: 0.2692 - val_mse: 0.2692\n",
      "Epoch 31/100\n",
      "94/94 [==============================] - 1s 14ms/step - loss: 0.2521 - mse: 0.2521 - val_loss: 0.2657 - val_mse: 0.2657\n",
      "Epoch 32/100\n",
      "94/94 [==============================] - 1s 12ms/step - loss: 0.2547 - mse: 0.2547 - val_loss: 0.2749 - val_mse: 0.2749\n",
      "Epoch 33/100\n",
      "94/94 [==============================] - 1s 12ms/step - loss: 0.2527 - mse: 0.2527 - val_loss: 0.2695 - val_mse: 0.2695\n",
      "Epoch 34/100\n",
      "94/94 [==============================] - 1s 15ms/step - loss: 0.2523 - mse: 0.2523 - val_loss: 0.2824 - val_mse: 0.2824\n",
      "Epoch 35/100\n",
      "94/94 [==============================] - 1s 12ms/step - loss: 0.2536 - mse: 0.2536 - val_loss: 0.2623 - val_mse: 0.2623\n",
      "Epoch 36/100\n",
      "94/94 [==============================] - 1s 15ms/step - loss: 0.2540 - mse: 0.2540 - val_loss: 0.2678 - val_mse: 0.2678\n",
      "Epoch 37/100\n",
      "94/94 [==============================] - 1s 14ms/step - loss: 0.2520 - mse: 0.2520 - val_loss: 0.2980 - val_mse: 0.2980\n",
      "Epoch 38/100\n",
      "94/94 [==============================] - 1s 12ms/step - loss: 0.2541 - mse: 0.2541 - val_loss: 0.2737 - val_mse: 0.2737\n",
      "Epoch 39/100\n",
      "94/94 [==============================] - 1s 13ms/step - loss: 0.2531 - mse: 0.2531 - val_loss: 0.2640 - val_mse: 0.2640\n",
      "Epoch 40/100\n",
      "94/94 [==============================] - 1s 15ms/step - loss: 0.2527 - mse: 0.2527 - val_loss: 0.2805 - val_mse: 0.2805\n",
      "Epoch 41/100\n",
      "94/94 [==============================] - 1s 12ms/step - loss: 0.2526 - mse: 0.2526 - val_loss: 0.2794 - val_mse: 0.2794\n",
      "Epoch 42/100\n",
      "94/94 [==============================] - 1s 14ms/step - loss: 0.2539 - mse: 0.2539 - val_loss: 0.2665 - val_mse: 0.2665\n",
      "Epoch 43/100\n",
      "94/94 [==============================] - 1s 15ms/step - loss: 0.2528 - mse: 0.2528 - val_loss: 0.2668 - val_mse: 0.2668\n",
      "Epoch 44/100\n",
      "94/94 [==============================] - 1s 15ms/step - loss: 0.2529 - mse: 0.2529 - val_loss: 0.2653 - val_mse: 0.2653\n",
      "Epoch 45/100\n",
      "94/94 [==============================] - 1s 12ms/step - loss: 0.2533 - mse: 0.2533 - val_loss: 0.2809 - val_mse: 0.2809\n",
      "Epoch 46/100\n",
      "94/94 [==============================] - 1s 12ms/step - loss: 0.2528 - mse: 0.2528 - val_loss: 0.2619 - val_mse: 0.2619\n",
      "Epoch 47/100\n",
      "94/94 [==============================] - 1s 14ms/step - loss: 0.2530 - mse: 0.2530 - val_loss: 0.2614 - val_mse: 0.2614\n",
      "Epoch 48/100\n",
      "94/94 [==============================] - 1s 13ms/step - loss: 0.2538 - mse: 0.2538 - val_loss: 0.2709 - val_mse: 0.2709\n",
      "Epoch 49/100\n",
      "94/94 [==============================] - 1s 13ms/step - loss: 0.2528 - mse: 0.2528 - val_loss: 0.2613 - val_mse: 0.2613\n",
      "Epoch 50/100\n",
      "94/94 [==============================] - 1s 11ms/step - loss: 0.2520 - mse: 0.2520 - val_loss: 0.2611 - val_mse: 0.2611\n",
      "Epoch 51/100\n",
      "94/94 [==============================] - 1s 14ms/step - loss: 0.2520 - mse: 0.2520 - val_loss: 0.2693 - val_mse: 0.2693\n",
      "Epoch 52/100\n",
      "94/94 [==============================] - 1s 14ms/step - loss: 0.2529 - mse: 0.2529 - val_loss: 0.2694 - val_mse: 0.2694\n",
      "Epoch 53/100\n",
      "94/94 [==============================] - 1s 14ms/step - loss: 0.2515 - mse: 0.2515 - val_loss: 0.2709 - val_mse: 0.2709\n",
      "Epoch 54/100\n",
      "94/94 [==============================] - 1s 15ms/step - loss: 0.2521 - mse: 0.2521 - val_loss: 0.2677 - val_mse: 0.2677\n",
      "Epoch 55/100\n",
      "94/94 [==============================] - 1s 14ms/step - loss: 0.2531 - mse: 0.2531 - val_loss: 0.2757 - val_mse: 0.2757\n",
      "Epoch 56/100\n",
      "94/94 [==============================] - 1s 14ms/step - loss: 0.2528 - mse: 0.2528 - val_loss: 0.2685 - val_mse: 0.2685\n",
      "Epoch 57/100\n",
      "94/94 [==============================] - 1s 15ms/step - loss: 0.2531 - mse: 0.2531 - val_loss: 0.2735 - val_mse: 0.2735\n",
      "Epoch 58/100\n",
      "94/94 [==============================] - 1s 15ms/step - loss: 0.2526 - mse: 0.2526 - val_loss: 0.2611 - val_mse: 0.2611\n",
      "Epoch 59/100\n",
      "94/94 [==============================] - 1s 13ms/step - loss: 0.2524 - mse: 0.2524 - val_loss: 0.2689 - val_mse: 0.2689\n",
      "Epoch 60/100\n",
      "94/94 [==============================] - 1s 13ms/step - loss: 0.2519 - mse: 0.2519 - val_loss: 0.2725 - val_mse: 0.2725\n",
      "Epoch 61/100\n",
      "94/94 [==============================] - 1s 13ms/step - loss: 0.2518 - mse: 0.2518 - val_loss: 0.2677 - val_mse: 0.2677\n",
      "Epoch 62/100\n",
      "94/94 [==============================] - 1s 15ms/step - loss: 0.2514 - mse: 0.2514 - val_loss: 0.2704 - val_mse: 0.2704\n"
     ]
    },
    {
     "name": "stdout",
     "output_type": "stream",
     "text": [
      "Epoch 63/100\n",
      "94/94 [==============================] - 1s 8ms/step - loss: 0.2534 - mse: 0.2534 - val_loss: 0.2633 - val_mse: 0.2633\n",
      "Epoch 64/100\n",
      "94/94 [==============================] - 1s 6ms/step - loss: 0.2535 - mse: 0.2535 - val_loss: 0.2701 - val_mse: 0.2701\n",
      "Epoch 65/100\n",
      "94/94 [==============================] - 1s 7ms/step - loss: 0.2524 - mse: 0.2524 - val_loss: 0.2648 - val_mse: 0.2648\n",
      "Epoch 66/100\n",
      "94/94 [==============================] - 1s 7ms/step - loss: 0.2516 - mse: 0.2516 - val_loss: 0.2653 - val_mse: 0.2653\n",
      "Epoch 67/100\n",
      "94/94 [==============================] - 1s 8ms/step - loss: 0.2520 - mse: 0.2520 - val_loss: 0.2720 - val_mse: 0.2720\n",
      "Epoch 68/100\n",
      "94/94 [==============================] - 1s 13ms/step - loss: 0.2523 - mse: 0.2523 - val_loss: 0.2639 - val_mse: 0.2639\n",
      "Epoch 69/100\n",
      "94/94 [==============================] - 1s 8ms/step - loss: 0.2528 - mse: 0.2528 - val_loss: 0.2635 - val_mse: 0.2635\n",
      "Epoch 70/100\n",
      "94/94 [==============================] - 1s 7ms/step - loss: 0.2522 - mse: 0.2522 - val_loss: 0.2650 - val_mse: 0.2650\n",
      "Epoch 71/100\n",
      "94/94 [==============================] - 1s 8ms/step - loss: 0.2519 - mse: 0.2519 - val_loss: 0.2618 - val_mse: 0.2618\n",
      "Epoch 72/100\n",
      "94/94 [==============================] - 1s 8ms/step - loss: 0.2527 - mse: 0.2527 - val_loss: 0.2746 - val_mse: 0.2746\n",
      "Epoch 73/100\n",
      "94/94 [==============================] - 1s 7ms/step - loss: 0.2518 - mse: 0.2518 - val_loss: 0.2601 - val_mse: 0.2601\n",
      "Epoch 74/100\n",
      "94/94 [==============================] - 1s 8ms/step - loss: 0.2519 - mse: 0.2519 - val_loss: 0.2641 - val_mse: 0.2641\n",
      "Epoch 75/100\n",
      "94/94 [==============================] - 1s 7ms/step - loss: 0.2522 - mse: 0.2522 - val_loss: 0.2723 - val_mse: 0.2723\n",
      "Epoch 76/100\n",
      "94/94 [==============================] - 1s 7ms/step - loss: 0.2521 - mse: 0.2521 - val_loss: 0.2657 - val_mse: 0.2657\n",
      "Epoch 77/100\n",
      "94/94 [==============================] - 1s 7ms/step - loss: 0.2521 - mse: 0.2521 - val_loss: 0.2679 - val_mse: 0.2679\n",
      "Epoch 78/100\n",
      "94/94 [==============================] - 1s 7ms/step - loss: 0.2524 - mse: 0.2524 - val_loss: 0.2628 - val_mse: 0.2628\n",
      "Epoch 79/100\n",
      "94/94 [==============================] - 1s 8ms/step - loss: 0.2521 - mse: 0.2521 - val_loss: 0.2734 - val_mse: 0.2734\n",
      "Epoch 80/100\n",
      "94/94 [==============================] - 1s 7ms/step - loss: 0.2516 - mse: 0.2516 - val_loss: 0.2619 - val_mse: 0.2619\n",
      "Epoch 81/100\n",
      "94/94 [==============================] - 1s 8ms/step - loss: 0.2530 - mse: 0.2530 - val_loss: 0.2692 - val_mse: 0.2692\n",
      "Epoch 82/100\n",
      "94/94 [==============================] - 1s 9ms/step - loss: 0.2516 - mse: 0.2516 - val_loss: 0.2670 - val_mse: 0.2670\n",
      "Epoch 83/100\n",
      "94/94 [==============================] - 1s 9ms/step - loss: 0.2521 - mse: 0.2521 - val_loss: 0.2607 - val_mse: 0.2607\n",
      "Epoch 84/100\n",
      "94/94 [==============================] - 1s 11ms/step - loss: 0.2511 - mse: 0.2511 - val_loss: 0.2609 - val_mse: 0.2609\n",
      "Epoch 85/100\n",
      "94/94 [==============================] - 1s 11ms/step - loss: 0.2525 - mse: 0.2525 - val_loss: 0.2605 - val_mse: 0.2605\n",
      "Epoch 86/100\n",
      "94/94 [==============================] - 1s 9ms/step - loss: 0.2523 - mse: 0.2523 - val_loss: 0.2628 - val_mse: 0.2628\n",
      "Epoch 87/100\n",
      "94/94 [==============================] - 1s 11ms/step - loss: 0.2527 - mse: 0.2527 - val_loss: 0.2715 - val_mse: 0.2715\n",
      "Epoch 88/100\n",
      "94/94 [==============================] - 1s 10ms/step - loss: 0.2512 - mse: 0.2512 - val_loss: 0.2639 - val_mse: 0.2639\n",
      "Epoch 89/100\n",
      "94/94 [==============================] - 1s 8ms/step - loss: 0.2505 - mse: 0.2505 - val_loss: 0.2671 - val_mse: 0.2671\n",
      "Epoch 90/100\n",
      "94/94 [==============================] - 1s 8ms/step - loss: 0.2516 - mse: 0.2516 - val_loss: 0.2634 - val_mse: 0.2634\n",
      "Epoch 91/100\n",
      "94/94 [==============================] - 1s 9ms/step - loss: 0.2521 - mse: 0.2521 - val_loss: 0.2652 - val_mse: 0.2652\n",
      "Epoch 92/100\n",
      "94/94 [==============================] - 1s 8ms/step - loss: 0.2500 - mse: 0.2500 - val_loss: 0.2682 - val_mse: 0.2682\n",
      "Epoch 93/100\n",
      "94/94 [==============================] - 1s 12ms/step - loss: 0.2505 - mse: 0.2505 - val_loss: 0.2646 - val_mse: 0.2646\n",
      "Epoch 94/100\n",
      "94/94 [==============================] - 1s 9ms/step - loss: 0.2520 - mse: 0.2520 - val_loss: 0.2683 - val_mse: 0.2683\n",
      "Epoch 95/100\n",
      "94/94 [==============================] - 1s 9ms/step - loss: 0.2513 - mse: 0.2513 - val_loss: 0.2703 - val_mse: 0.2703\n",
      "Epoch 96/100\n",
      "94/94 [==============================] - 1s 9ms/step - loss: 0.2510 - mse: 0.2510 - val_loss: 0.2625 - val_mse: 0.2625\n",
      "Epoch 97/100\n",
      "94/94 [==============================] - 1s 8ms/step - loss: 0.2509 - mse: 0.2509 - val_loss: 0.2628 - val_mse: 0.2628\n",
      "Epoch 98/100\n",
      "94/94 [==============================] - 1s 8ms/step - loss: 0.2518 - mse: 0.2518 - val_loss: 0.2697 - val_mse: 0.2697\n",
      "Epoch 99/100\n",
      "94/94 [==============================] - 1s 10ms/step - loss: 0.2513 - mse: 0.2513 - val_loss: 0.2633 - val_mse: 0.2633\n",
      "Epoch 100/100\n",
      "94/94 [==============================] - 1s 10ms/step - loss: 0.2512 - mse: 0.2512 - val_loss: 0.2664 - val_mse: 0.2664\n"
     ]
    }
   ],
   "source": [
    "# fit the model using training dataset\n",
    "# over 10 epochs of 32 batch size each\n",
    "# report training progress against validation data\n",
    "history = model.fit(x=x_train, y=y_train, \n",
    "          batch_size=32, epochs=100,\n",
    "          shuffle=True, # a good idea is to shuffle input before at each epoch\n",
    "          validation_data=(x_valid, y_valid))"
   ]
  },
  {
   "cell_type": "code",
   "execution_count": 125,
   "metadata": {
    "colab": {
     "base_uri": "https://localhost:8080/"
    },
    "executionInfo": {
     "elapsed": 23,
     "status": "ok",
     "timestamp": 1625498024307,
     "user": {
      "displayName": "Brandon Tatani",
      "photoUrl": "",
      "userId": "12981437968527834494"
     },
     "user_tz": -120
    },
    "id": "doGxI-fJE7fI",
    "outputId": "eb3320c7-f523-4e69-ce41-a3bf2a2cb824"
   },
   "outputs": [
    {
     "data": {
      "text/plain": [
       "[array([[-1.4565727]], dtype=float32),\n",
       " array([-0.546063], dtype=float32),\n",
       " array([[ 1.1794167, -1.5272647]], dtype=float32),\n",
       " array([-0.70487297,  0.04557785], dtype=float32),\n",
       " array([[-0.9256537 , -1.1399611 ,  0.43363735],\n",
       "        [-0.49924394,  0.41804639,  1.2349299 ]], dtype=float32),\n",
       " array([ 0.18099934,  0.60835475, -0.08897865], dtype=float32),\n",
       " array([[ 1.039638  , -0.8104726 ,  0.37514037,  0.11081664],\n",
       "        [ 0.4305324 , -0.9700699 , -1.0575037 , -0.7185824 ],\n",
       "        [-1.0627897 ,  0.17215817, -0.57052314, -0.28137413]],\n",
       "       dtype=float32),\n",
       " array([ 0.48312667, -0.12285279, -0.37615138, -0.11751462], dtype=float32),\n",
       " array([[ 1.2418325 ],\n",
       "        [-1.1131948 ],\n",
       "        [-0.89711696],\n",
       "        [-0.30149657]], dtype=float32),\n",
       " array([0.66411275], dtype=float32)]"
      ]
     },
     "execution_count": 125,
     "metadata": {},
     "output_type": "execute_result"
    }
   ],
   "source": [
    "# return weights and biases\n",
    "model.get_weights()"
   ]
  },
  {
   "cell_type": "code",
   "execution_count": 126,
   "metadata": {
    "colab": {
     "base_uri": "https://localhost:8080/"
    },
    "executionInfo": {
     "elapsed": 19,
     "status": "ok",
     "timestamp": 1625498024308,
     "user": {
      "displayName": "Brandon Tatani",
      "photoUrl": "",
      "userId": "12981437968527834494"
     },
     "user_tz": -120
    },
    "id": "dHZJmooCE7fJ",
    "outputId": "7485f10c-7772-4efb-f35e-e70c48b85202"
   },
   "outputs": [
    {
     "name": "stdout",
     "output_type": "stream",
     "text": [
      "4/4 [==============================] - 0s 6ms/step - loss: 0.2664 - mse: 0.2664\n",
      "\n",
      "Test loss: 0.2664414644241333\n",
      "Test accuracy: 0.2664414644241333\n"
     ]
    }
   ],
   "source": [
    "# evaluate model\n",
    "score = model.evaluate(x_valid, y_valid, batch_size=32, verbose=1)\n",
    "\n",
    "# print performance\n",
    "print()\n",
    "print('Test loss:', score[0])\n",
    "print('Test accuracy:', score[1])"
   ]
  },
  {
   "cell_type": "code",
   "execution_count": 127,
   "metadata": {
    "colab": {
     "base_uri": "https://localhost:8080/"
    },
    "executionInfo": {
     "elapsed": 16,
     "status": "ok",
     "timestamp": 1625498024308,
     "user": {
      "displayName": "Brandon Tatani",
      "photoUrl": "",
      "userId": "12981437968527834494"
     },
     "user_tz": -120
    },
    "id": "lf2Tvn_gE7fM",
    "outputId": "8706bd9a-9140-44ff-c056-c345bc92a504"
   },
   "outputs": [
    {
     "name": "stdout",
     "output_type": "stream",
     "text": [
      "4/4 [==============================] - 0s 17ms/step - loss: 0.0061 - mse: 0.0061\n",
      "\n",
      "Test loss: 0.006091241259127855\n",
      "Test accuracy: 0.006091241259127855\n"
     ]
    }
   ],
   "source": [
    "# evaluate model with the exact curve\n",
    "score = model.evaluate(x_valid, y_target, batch_size=32, verbose=1)\n",
    "\n",
    "# print performance\n",
    "print()\n",
    "print('Test loss:', score[0])\n",
    "print('Test accuracy:', score[1])"
   ]
  },
  {
   "cell_type": "code",
   "execution_count": 128,
   "metadata": {
    "colab": {
     "base_uri": "https://localhost:8080/",
     "height": 295
    },
    "executionInfo": {
     "elapsed": 466,
     "status": "ok",
     "timestamp": 1625498024760,
     "user": {
      "displayName": "Brandon Tatani",
      "photoUrl": "",
      "userId": "12981437968527834494"
     },
     "user_tz": -120
    },
    "id": "lZRgUnS5E7fO",
    "outputId": "3aef1802-f8e2-4dcf-ddca-680c62f8e018"
   },
   "outputs": [
    {
     "data": {
      "image/png": "[encoded data removed]",
      "text/plain": [
       "<Figure size 432x288 with 1 Axes>"
      ]
     },
     "metadata": {
      "needs_background": "light"
     },
     "output_type": "display_data"
    }
   ],
   "source": [
    "# look into training history\n",
    "# Plot training & validation loss values\n",
    "plt.plot(history.history['loss'])\n",
    "plt.plot(history.history['val_loss'])\n",
    "plt.title('Model loss')\n",
    "plt.ylabel('Loss')\n",
    "plt.xlabel('Epoch')\n",
    "plt.legend(['Train', 'Test'], loc='best')\n",
    "plt.show()"
   ]
  },
  {
   "cell_type": "code",
   "execution_count": 130,
   "metadata": {
    "colab": {
     "base_uri": "https://localhost:8080/",
     "height": 265
    },
    "executionInfo": {
     "elapsed": 472,
     "status": "ok",
     "timestamp": 1625498025227,
     "user": {
      "displayName": "Brandon Tatani",
      "photoUrl": "",
      "userId": "12981437968527834494"
     },
     "user_tz": -120
    },
    "id": "Fb3HqE6EE7fS",
    "outputId": "dcf915ed-c3e2-4bfc-d2ff-9326626e5823",
    "scrolled": false
   },
   "outputs": [
    {
     "data": {
      "image/png": "[encoded data removed]",
      "text/plain": [
       "<Figure size 432x288 with 1 Axes>"
      ]
     },
     "metadata": {
      "needs_background": "light"
     },
     "output_type": "display_data"
    }
   ],
   "source": [
    "x_predicted = np.random.uniform(-1.2, 1.2, 100)\n",
    "y_predicted = model.predict(x_predicted)\n",
    "#print(y_predicted)\n",
    "plt.scatter(x_predicted, y_predicted,color='r')\n",
    "plt.plot(x_valid, y_target)\n",
    "plt.grid(True)\n",
    "plt.show()"
   ]
  },
  {
   "cell_type": "code",
   "execution_count": null,
   "metadata": {
    "colab": {
     "base_uri": "https://localhost:8080/"
    },
    "executionInfo": {
     "elapsed": 240,
     "status": "ok",
     "timestamp": 1625503949790,
     "user": {
      "displayName": "Brandon Tatani",
      "photoUrl": "",
      "userId": "12981437968527834494"
     },
     "user_tz": -120
    },
    "id": "qwHvEYWlE7fT",
    "outputId": "67738322-0094-4682-a272-4d140ddb8490"
   },
   "outputs": [
    {
     "name": "stdout",
     "output_type": "stream",
     "text": [
      "Model: \"sequential_52\"\n",
      "_________________________________________________________________\n",
      "Layer (type)                 Output Shape              Param #   \n",
      "=================================================================\n",
      "dense_187 (Dense)            (None, 1)                 2         \n",
      "_________________________________________________________________\n",
      "dense_188 (Dense)            (None, 30)                60        \n",
      "_________________________________________________________________\n",
      "dense_189 (Dense)            (None, 1)                 31        \n",
      "=================================================================\n",
      "Total params: 93\n",
      "Trainable params: 93\n",
      "Non-trainable params: 0\n",
      "_________________________________________________________________\n"
     ]
    }
   ],
   "source": [
    "model1 = tf.keras.Sequential()\n",
    "model1.add(Dense(1, input_shape=(1,)))\n",
    "model1.add(Dense(30, activation='elu'))\n",
    "model1.add(Dense(1, activation='elu'))\n",
    "\n",
    "# compile the model choosing optimizer, loss and metrics objects\n",
    "model1.compile(optimizer='sgd', loss='mse', metrics=['mse'])\n",
    "model1.summary()"
   ]
  },
  {
   "cell_type": "code",
   "execution_count": null,
   "metadata": {
    "colab": {
     "base_uri": "https://localhost:8080/"
    },
    "executionInfo": {
     "elapsed": 38534,
     "status": "ok",
     "timestamp": 1625503989729,
     "user": {
      "displayName": "Brandon Tatani",
      "photoUrl": "",
      "userId": "12981437968527834494"
     },
     "user_tz": -120
    },
    "id": "1s4fkDm7hIK0",
    "outputId": "e37bb424-523c-4669-932f-e780055caca9"
   },
   "outputs": [
    {
     "name": "stdout",
     "output_type": "stream",
     "text": [
      "Epoch 1/300\n",
      "94/94 [==============================] - 1s 2ms/step - loss: 1.7331 - mse: 1.7331 - val_loss: 0.6035 - val_mse: 0.6035\n",
      "Epoch 2/300\n",
      "94/94 [==============================] - 0s 1ms/step - loss: 0.7871 - mse: 0.7871 - val_loss: 0.5814 - val_mse: 0.5814\n",
      "Epoch 3/300\n",
      "94/94 [==============================] - 0s 1ms/step - loss: 0.7841 - mse: 0.7841 - val_loss: 0.5750 - val_mse: 0.5750\n",
      "Epoch 4/300\n",
      "94/94 [==============================] - 0s 1ms/step - loss: 0.7802 - mse: 0.7802 - val_loss: 0.5764 - val_mse: 0.5764\n",
      "Epoch 5/300\n",
      "94/94 [==============================] - 0s 1ms/step - loss: 0.7772 - mse: 0.7772 - val_loss: 0.5665 - val_mse: 0.5665\n",
      "Epoch 6/300\n",
      "94/94 [==============================] - 0s 1ms/step - loss: 0.7667 - mse: 0.7667 - val_loss: 0.5640 - val_mse: 0.5640\n",
      "Epoch 7/300\n",
      "94/94 [==============================] - 0s 1ms/step - loss: 0.7616 - mse: 0.7616 - val_loss: 0.5525 - val_mse: 0.5525\n",
      "Epoch 8/300\n",
      "94/94 [==============================] - 0s 1ms/step - loss: 0.7469 - mse: 0.7469 - val_loss: 0.5508 - val_mse: 0.5508\n",
      "Epoch 9/300\n",
      "94/94 [==============================] - 0s 1ms/step - loss: 0.7360 - mse: 0.7360 - val_loss: 0.5456 - val_mse: 0.5456\n",
      "Epoch 10/300\n",
      "94/94 [==============================] - 0s 1ms/step - loss: 0.7160 - mse: 0.7160 - val_loss: 0.5232 - val_mse: 0.5232\n",
      "Epoch 11/300\n",
      "94/94 [==============================] - 0s 1ms/step - loss: 0.6858 - mse: 0.6858 - val_loss: 0.4946 - val_mse: 0.4946\n",
      "Epoch 12/300\n",
      "94/94 [==============================] - 0s 1ms/step - loss: 0.6476 - mse: 0.6476 - val_loss: 0.4671 - val_mse: 0.4671\n",
      "Epoch 13/300\n",
      "94/94 [==============================] - 0s 1ms/step - loss: 0.6010 - mse: 0.6010 - val_loss: 0.4407 - val_mse: 0.4407\n",
      "Epoch 14/300\n",
      "94/94 [==============================] - 0s 1ms/step - loss: 0.5495 - mse: 0.5495 - val_loss: 0.4063 - val_mse: 0.4063\n",
      "Epoch 15/300\n",
      "94/94 [==============================] - 0s 1ms/step - loss: 0.5033 - mse: 0.5033 - val_loss: 0.3911 - val_mse: 0.3911\n",
      "Epoch 16/300\n",
      "94/94 [==============================] - 0s 1ms/step - loss: 0.4705 - mse: 0.4705 - val_loss: 0.3733 - val_mse: 0.3733\n",
      "Epoch 17/300\n",
      "94/94 [==============================] - 0s 1ms/step - loss: 0.4410 - mse: 0.4410 - val_loss: 0.3776 - val_mse: 0.3776\n",
      "Epoch 18/300\n",
      "94/94 [==============================] - 0s 1ms/step - loss: 0.4172 - mse: 0.4172 - val_loss: 0.3475 - val_mse: 0.3475\n",
      "Epoch 19/300\n",
      "94/94 [==============================] - 0s 1ms/step - loss: 0.3978 - mse: 0.3978 - val_loss: 0.3524 - val_mse: 0.3524\n",
      "Epoch 20/300\n",
      "94/94 [==============================] - 0s 1ms/step - loss: 0.3798 - mse: 0.3798 - val_loss: 0.3470 - val_mse: 0.3470\n",
      "Epoch 21/300\n",
      "94/94 [==============================] - 0s 1ms/step - loss: 0.3664 - mse: 0.3664 - val_loss: 0.3413 - val_mse: 0.3413\n",
      "Epoch 22/300\n",
      "94/94 [==============================] - 0s 1ms/step - loss: 0.3543 - mse: 0.3543 - val_loss: 0.3152 - val_mse: 0.3152\n",
      "Epoch 23/300\n",
      "94/94 [==============================] - 0s 1ms/step - loss: 0.3466 - mse: 0.3466 - val_loss: 0.3183 - val_mse: 0.3183\n",
      "Epoch 24/300\n",
      "94/94 [==============================] - 0s 1ms/step - loss: 0.3376 - mse: 0.3376 - val_loss: 0.3310 - val_mse: 0.3310\n",
      "Epoch 25/300\n",
      "94/94 [==============================] - 0s 1ms/step - loss: 0.3323 - mse: 0.3323 - val_loss: 0.3233 - val_mse: 0.3233\n",
      "Epoch 26/300\n",
      "94/94 [==============================] - 0s 1ms/step - loss: 0.3279 - mse: 0.3279 - val_loss: 0.3068 - val_mse: 0.3068\n",
      "Epoch 27/300\n",
      "94/94 [==============================] - 0s 1ms/step - loss: 0.3236 - mse: 0.3236 - val_loss: 0.3061 - val_mse: 0.3061\n",
      "Epoch 28/300\n",
      "94/94 [==============================] - 0s 1ms/step - loss: 0.3190 - mse: 0.3190 - val_loss: 0.2987 - val_mse: 0.2987\n",
      "Epoch 29/300\n",
      "94/94 [==============================] - 0s 1ms/step - loss: 0.3175 - mse: 0.3175 - val_loss: 0.3112 - val_mse: 0.3112\n",
      "Epoch 30/300\n",
      "94/94 [==============================] - 0s 1ms/step - loss: 0.3133 - mse: 0.3133 - val_loss: 0.2907 - val_mse: 0.2907\n",
      "Epoch 31/300\n",
      "94/94 [==============================] - 0s 1ms/step - loss: 0.3101 - mse: 0.3101 - val_loss: 0.2919 - val_mse: 0.2919\n",
      "Epoch 32/300\n",
      "94/94 [==============================] - 0s 1ms/step - loss: 0.3083 - mse: 0.3083 - val_loss: 0.2934 - val_mse: 0.2934\n",
      "Epoch 33/300\n",
      "94/94 [==============================] - 0s 1ms/step - loss: 0.3078 - mse: 0.3078 - val_loss: 0.2932 - val_mse: 0.2932\n",
      "Epoch 34/300\n",
      "94/94 [==============================] - 0s 1ms/step - loss: 0.3035 - mse: 0.3035 - val_loss: 0.3018 - val_mse: 0.3018\n",
      "Epoch 35/300\n",
      "94/94 [==============================] - 0s 1ms/step - loss: 0.3056 - mse: 0.3056 - val_loss: 0.2934 - val_mse: 0.2934\n",
      "Epoch 36/300\n",
      "94/94 [==============================] - 0s 1ms/step - loss: 0.3022 - mse: 0.3022 - val_loss: 0.3037 - val_mse: 0.3037\n",
      "Epoch 37/300\n",
      "94/94 [==============================] - 0s 1ms/step - loss: 0.3012 - mse: 0.3012 - val_loss: 0.2852 - val_mse: 0.2852\n",
      "Epoch 38/300\n",
      "94/94 [==============================] - 0s 1ms/step - loss: 0.3010 - mse: 0.3010 - val_loss: 0.2939 - val_mse: 0.2939\n",
      "Epoch 39/300\n",
      "94/94 [==============================] - 0s 1ms/step - loss: 0.3001 - mse: 0.3001 - val_loss: 0.2914 - val_mse: 0.2914\n",
      "Epoch 40/300\n",
      "94/94 [==============================] - 0s 1ms/step - loss: 0.2986 - mse: 0.2986 - val_loss: 0.2953 - val_mse: 0.2953\n",
      "Epoch 41/300\n",
      "94/94 [==============================] - 0s 1ms/step - loss: 0.2992 - mse: 0.2992 - val_loss: 0.2898 - val_mse: 0.2898\n",
      "Epoch 42/300\n",
      "94/94 [==============================] - 0s 1ms/step - loss: 0.2984 - mse: 0.2984 - val_loss: 0.2820 - val_mse: 0.2820\n",
      "Epoch 43/300\n",
      "94/94 [==============================] - 0s 1ms/step - loss: 0.2952 - mse: 0.2952 - val_loss: 0.2801 - val_mse: 0.2801\n",
      "Epoch 44/300\n",
      "94/94 [==============================] - 0s 1ms/step - loss: 0.2973 - mse: 0.2973 - val_loss: 0.2788 - val_mse: 0.2788\n",
      "Epoch 45/300\n",
      "94/94 [==============================] - 0s 1ms/step - loss: 0.2936 - mse: 0.2936 - val_loss: 0.2772 - val_mse: 0.2772\n",
      "Epoch 46/300\n",
      "94/94 [==============================] - 0s 1ms/step - loss: 0.2932 - mse: 0.2932 - val_loss: 0.2761 - val_mse: 0.2761\n",
      "Epoch 47/300\n",
      "94/94 [==============================] - 0s 1ms/step - loss: 0.2921 - mse: 0.2921 - val_loss: 0.2958 - val_mse: 0.2958\n",
      "Epoch 48/300\n",
      "94/94 [==============================] - 0s 1ms/step - loss: 0.2919 - mse: 0.2919 - val_loss: 0.2793 - val_mse: 0.2793\n",
      "Epoch 49/300\n",
      "94/94 [==============================] - 0s 1ms/step - loss: 0.2949 - mse: 0.2949 - val_loss: 0.2811 - val_mse: 0.2811\n",
      "Epoch 50/300\n",
      "94/94 [==============================] - 0s 1ms/step - loss: 0.2913 - mse: 0.2913 - val_loss: 0.2758 - val_mse: 0.2758\n",
      "Epoch 51/300\n",
      "94/94 [==============================] - 0s 1ms/step - loss: 0.2914 - mse: 0.2914 - val_loss: 0.2746 - val_mse: 0.2746\n",
      "Epoch 52/300\n",
      "94/94 [==============================] - 0s 1ms/step - loss: 0.2907 - mse: 0.2907 - val_loss: 0.2746 - val_mse: 0.2746\n",
      "Epoch 53/300\n",
      "94/94 [==============================] - 0s 1ms/step - loss: 0.2904 - mse: 0.2904 - val_loss: 0.2829 - val_mse: 0.2829\n",
      "Epoch 54/300\n",
      "94/94 [==============================] - 0s 2ms/step - loss: 0.2882 - mse: 0.2882 - val_loss: 0.2722 - val_mse: 0.2722\n",
      "Epoch 55/300\n",
      "94/94 [==============================] - 0s 1ms/step - loss: 0.2895 - mse: 0.2895 - val_loss: 0.2943 - val_mse: 0.2943\n",
      "Epoch 56/300\n",
      "94/94 [==============================] - 0s 1ms/step - loss: 0.2893 - mse: 0.2893 - val_loss: 0.2757 - val_mse: 0.2757\n",
      "Epoch 57/300\n",
      "94/94 [==============================] - 0s 1ms/step - loss: 0.2874 - mse: 0.2874 - val_loss: 0.3060 - val_mse: 0.3060\n",
      "Epoch 58/300\n",
      "94/94 [==============================] - 0s 1ms/step - loss: 0.2871 - mse: 0.2871 - val_loss: 0.2739 - val_mse: 0.2739\n",
      "Epoch 59/300\n",
      "94/94 [==============================] - 0s 1ms/step - loss: 0.2861 - mse: 0.2861 - val_loss: 0.2795 - val_mse: 0.2795\n",
      "Epoch 60/300\n",
      "94/94 [==============================] - 0s 1ms/step - loss: 0.2860 - mse: 0.2860 - val_loss: 0.2756 - val_mse: 0.2756\n",
      "Epoch 61/300\n",
      "94/94 [==============================] - 0s 1ms/step - loss: 0.2853 - mse: 0.2853 - val_loss: 0.2693 - val_mse: 0.2693\n",
      "Epoch 62/300\n",
      "94/94 [==============================] - 0s 1ms/step - loss: 0.2866 - mse: 0.2866 - val_loss: 0.2721 - val_mse: 0.2721\n",
      "Epoch 63/300\n",
      "94/94 [==============================] - 0s 1ms/step - loss: 0.2853 - mse: 0.2853 - val_loss: 0.3147 - val_mse: 0.3147\n",
      "Epoch 64/300\n",
      "94/94 [==============================] - 0s 1ms/step - loss: 0.2859 - mse: 0.2859 - val_loss: 0.2670 - val_mse: 0.2670\n",
      "Epoch 65/300\n",
      "94/94 [==============================] - 0s 1ms/step - loss: 0.2843 - mse: 0.2843 - val_loss: 0.2837 - val_mse: 0.2837\n",
      "Epoch 66/300\n",
      "94/94 [==============================] - 0s 1ms/step - loss: 0.2825 - mse: 0.2825 - val_loss: 0.2689 - val_mse: 0.2689\n",
      "Epoch 67/300\n",
      "94/94 [==============================] - 0s 1ms/step - loss: 0.2837 - mse: 0.2837 - val_loss: 0.2808 - val_mse: 0.2808\n",
      "Epoch 68/300\n",
      "94/94 [==============================] - 0s 1ms/step - loss: 0.2813 - mse: 0.2813 - val_loss: 0.2684 - val_mse: 0.2684\n",
      "Epoch 69/300\n",
      "94/94 [==============================] - 0s 1ms/step - loss: 0.2815 - mse: 0.2815 - val_loss: 0.3166 - val_mse: 0.3166\n",
      "Epoch 70/300\n",
      "94/94 [==============================] - 0s 1ms/step - loss: 0.2826 - mse: 0.2826 - val_loss: 0.2697 - val_mse: 0.2697\n",
      "Epoch 71/300\n",
      "94/94 [==============================] - 0s 1ms/step - loss: 0.2805 - mse: 0.2805 - val_loss: 0.2722 - val_mse: 0.2722\n",
      "Epoch 72/300\n",
      "94/94 [==============================] - 0s 1ms/step - loss: 0.2805 - mse: 0.2805 - val_loss: 0.2660 - val_mse: 0.2660\n",
      "Epoch 73/300\n",
      "94/94 [==============================] - 0s 1ms/step - loss: 0.2821 - mse: 0.2821 - val_loss: 0.2681 - val_mse: 0.2681\n",
      "Epoch 74/300\n",
      "94/94 [==============================] - 0s 1ms/step - loss: 0.2814 - mse: 0.2814 - val_loss: 0.2787 - val_mse: 0.2787\n",
      "Epoch 75/300\n",
      "94/94 [==============================] - 0s 1ms/step - loss: 0.2822 - mse: 0.2822 - val_loss: 0.2671 - val_mse: 0.2671\n",
      "Epoch 76/300\n",
      "94/94 [==============================] - 0s 1ms/step - loss: 0.2790 - mse: 0.2790 - val_loss: 0.2802 - val_mse: 0.2802\n",
      "Epoch 77/300\n",
      "94/94 [==============================] - 0s 1ms/step - loss: 0.2785 - mse: 0.2785 - val_loss: 0.2621 - val_mse: 0.2621\n",
      "Epoch 78/300\n",
      "94/94 [==============================] - 0s 1ms/step - loss: 0.2793 - mse: 0.2793 - val_loss: 0.2671 - val_mse: 0.2671\n",
      "Epoch 79/300\n",
      "94/94 [==============================] - 0s 1ms/step - loss: 0.2799 - mse: 0.2799 - val_loss: 0.2775 - val_mse: 0.2775\n",
      "Epoch 80/300\n",
      "94/94 [==============================] - 0s 1ms/step - loss: 0.2776 - mse: 0.2776 - val_loss: 0.2761 - val_mse: 0.2761\n",
      "Epoch 81/300\n",
      "94/94 [==============================] - 0s 1ms/step - loss: 0.2779 - mse: 0.2779 - val_loss: 0.2789 - val_mse: 0.2789\n",
      "Epoch 82/300\n",
      "94/94 [==============================] - 0s 1ms/step - loss: 0.2742 - mse: 0.2742 - val_loss: 0.2698 - val_mse: 0.2698\n",
      "Epoch 83/300\n",
      "94/94 [==============================] - 0s 1ms/step - loss: 0.2772 - mse: 0.2772 - val_loss: 0.2830 - val_mse: 0.2830\n",
      "Epoch 84/300\n",
      "94/94 [==============================] - 0s 1ms/step - loss: 0.2756 - mse: 0.2756 - val_loss: 0.2627 - val_mse: 0.2627\n",
      "Epoch 85/300\n",
      "94/94 [==============================] - 0s 1ms/step - loss: 0.2756 - mse: 0.2756 - val_loss: 0.2738 - val_mse: 0.2738\n",
      "Epoch 86/300\n",
      "94/94 [==============================] - 0s 1ms/step - loss: 0.2759 - mse: 0.2759 - val_loss: 0.2645 - val_mse: 0.2645\n",
      "Epoch 87/300\n",
      "94/94 [==============================] - 0s 1ms/step - loss: 0.2770 - mse: 0.2770 - val_loss: 0.2681 - val_mse: 0.2681\n",
      "Epoch 88/300\n",
      "94/94 [==============================] - 0s 1ms/step - loss: 0.2750 - mse: 0.2750 - val_loss: 0.2645 - val_mse: 0.2645\n",
      "Epoch 89/300\n",
      "94/94 [==============================] - 0s 1ms/step - loss: 0.2744 - mse: 0.2744 - val_loss: 0.2737 - val_mse: 0.2737\n",
      "Epoch 90/300\n",
      "94/94 [==============================] - 0s 1ms/step - loss: 0.2741 - mse: 0.2741 - val_loss: 0.2664 - val_mse: 0.2664\n",
      "Epoch 91/300\n",
      "94/94 [==============================] - 0s 1ms/step - loss: 0.2745 - mse: 0.2745 - val_loss: 0.2688 - val_mse: 0.2688\n",
      "Epoch 92/300\n",
      "94/94 [==============================] - 0s 1ms/step - loss: 0.2766 - mse: 0.2766 - val_loss: 0.2596 - val_mse: 0.2596\n",
      "Epoch 93/300\n",
      "94/94 [==============================] - 0s 1ms/step - loss: 0.2734 - mse: 0.2734 - val_loss: 0.2640 - val_mse: 0.2640\n",
      "Epoch 94/300\n",
      "94/94 [==============================] - 0s 1ms/step - loss: 0.2735 - mse: 0.2735 - val_loss: 0.2726 - val_mse: 0.2726\n",
      "Epoch 95/300\n",
      "94/94 [==============================] - 0s 1ms/step - loss: 0.2746 - mse: 0.2746 - val_loss: 0.2740 - val_mse: 0.2740\n",
      "Epoch 96/300\n",
      "94/94 [==============================] - 0s 1ms/step - loss: 0.2727 - mse: 0.2727 - val_loss: 0.2635 - val_mse: 0.2635\n",
      "Epoch 97/300\n",
      "94/94 [==============================] - 0s 1ms/step - loss: 0.2745 - mse: 0.2745 - val_loss: 0.2982 - val_mse: 0.2982\n",
      "Epoch 98/300\n",
      "94/94 [==============================] - 0s 1ms/step - loss: 0.2725 - mse: 0.2725 - val_loss: 0.2643 - val_mse: 0.2643\n",
      "Epoch 99/300\n",
      "94/94 [==============================] - 0s 1ms/step - loss: 0.2700 - mse: 0.2700 - val_loss: 0.2943 - val_mse: 0.2943\n",
      "Epoch 100/300\n",
      "94/94 [==============================] - 0s 1ms/step - loss: 0.2713 - mse: 0.2713 - val_loss: 0.2656 - val_mse: 0.2656\n",
      "Epoch 101/300\n",
      "94/94 [==============================] - 0s 1ms/step - loss: 0.2738 - mse: 0.2738 - val_loss: 0.2627 - val_mse: 0.2627\n",
      "Epoch 102/300\n",
      "94/94 [==============================] - 0s 1ms/step - loss: 0.2727 - mse: 0.2727 - val_loss: 0.2834 - val_mse: 0.2834\n",
      "Epoch 103/300\n",
      "94/94 [==============================] - 0s 1ms/step - loss: 0.2716 - mse: 0.2716 - val_loss: 0.2671 - val_mse: 0.2671\n",
      "Epoch 104/300\n",
      "94/94 [==============================] - 0s 1ms/step - loss: 0.2708 - mse: 0.2708 - val_loss: 0.2791 - val_mse: 0.2791\n",
      "Epoch 105/300\n",
      "94/94 [==============================] - 0s 1ms/step - loss: 0.2700 - mse: 0.2700 - val_loss: 0.2616 - val_mse: 0.2616\n",
      "Epoch 106/300\n",
      "94/94 [==============================] - 0s 1ms/step - loss: 0.2711 - mse: 0.2711 - val_loss: 0.2748 - val_mse: 0.2748\n",
      "Epoch 107/300\n",
      "94/94 [==============================] - 0s 1ms/step - loss: 0.2708 - mse: 0.2708 - val_loss: 0.2624 - val_mse: 0.2624\n",
      "Epoch 108/300\n",
      "94/94 [==============================] - 0s 1ms/step - loss: 0.2717 - mse: 0.2717 - val_loss: 0.2678 - val_mse: 0.2678\n",
      "Epoch 109/300\n",
      "94/94 [==============================] - 0s 1ms/step - loss: 0.2716 - mse: 0.2716 - val_loss: 0.2728 - val_mse: 0.2728\n",
      "Epoch 110/300\n",
      "94/94 [==============================] - 0s 1ms/step - loss: 0.2714 - mse: 0.2714 - val_loss: 0.2773 - val_mse: 0.2773\n",
      "Epoch 111/300\n",
      "94/94 [==============================] - 0s 1ms/step - loss: 0.2686 - mse: 0.2686 - val_loss: 0.2663 - val_mse: 0.2663\n",
      "Epoch 112/300\n",
      "94/94 [==============================] - 0s 1ms/step - loss: 0.2699 - mse: 0.2699 - val_loss: 0.2668 - val_mse: 0.2668\n",
      "Epoch 113/300\n",
      "94/94 [==============================] - 0s 1ms/step - loss: 0.2699 - mse: 0.2699 - val_loss: 0.2607 - val_mse: 0.2607\n",
      "Epoch 114/300\n",
      "94/94 [==============================] - 0s 1ms/step - loss: 0.2695 - mse: 0.2695 - val_loss: 0.2749 - val_mse: 0.2749\n",
      "Epoch 115/300\n",
      "94/94 [==============================] - 0s 1ms/step - loss: 0.2701 - mse: 0.2701 - val_loss: 0.2847 - val_mse: 0.2847\n",
      "Epoch 116/300\n",
      "94/94 [==============================] - 0s 1ms/step - loss: 0.2685 - mse: 0.2685 - val_loss: 0.2738 - val_mse: 0.2738\n",
      "Epoch 117/300\n",
      "94/94 [==============================] - 0s 1ms/step - loss: 0.2700 - mse: 0.2700 - val_loss: 0.2634 - val_mse: 0.2634\n",
      "Epoch 118/300\n",
      "94/94 [==============================] - 0s 1ms/step - loss: 0.2681 - mse: 0.2681 - val_loss: 0.2860 - val_mse: 0.2860\n",
      "Epoch 119/300\n",
      "94/94 [==============================] - 0s 1ms/step - loss: 0.2686 - mse: 0.2686 - val_loss: 0.2673 - val_mse: 0.2673\n",
      "Epoch 120/300\n",
      "94/94 [==============================] - 0s 1ms/step - loss: 0.2697 - mse: 0.2697 - val_loss: 0.2641 - val_mse: 0.2641\n",
      "Epoch 121/300\n",
      "94/94 [==============================] - 0s 1ms/step - loss: 0.2688 - mse: 0.2688 - val_loss: 0.2702 - val_mse: 0.2702\n",
      "Epoch 122/300\n",
      "94/94 [==============================] - 0s 1ms/step - loss: 0.2674 - mse: 0.2674 - val_loss: 0.3206 - val_mse: 0.3206\n",
      "Epoch 123/300\n",
      "94/94 [==============================] - 0s 1ms/step - loss: 0.2670 - mse: 0.2670 - val_loss: 0.2771 - val_mse: 0.2771\n",
      "Epoch 124/300\n",
      "94/94 [==============================] - 0s 1ms/step - loss: 0.2685 - mse: 0.2685 - val_loss: 0.2659 - val_mse: 0.2659\n",
      "Epoch 125/300\n",
      "94/94 [==============================] - 0s 1ms/step - loss: 0.2686 - mse: 0.2686 - val_loss: 0.2779 - val_mse: 0.2779\n",
      "Epoch 126/300\n",
      "94/94 [==============================] - 0s 1ms/step - loss: 0.2697 - mse: 0.2697 - val_loss: 0.2672 - val_mse: 0.2672\n",
      "Epoch 127/300\n",
      "94/94 [==============================] - 0s 1ms/step - loss: 0.2679 - mse: 0.2679 - val_loss: 0.2786 - val_mse: 0.2786\n",
      "Epoch 128/300\n",
      "94/94 [==============================] - 0s 1ms/step - loss: 0.2692 - mse: 0.2692 - val_loss: 0.2779 - val_mse: 0.2779\n",
      "Epoch 129/300\n",
      "94/94 [==============================] - 0s 1ms/step - loss: 0.2682 - mse: 0.2682 - val_loss: 0.2662 - val_mse: 0.2662\n",
      "Epoch 130/300\n",
      "94/94 [==============================] - 0s 1ms/step - loss: 0.2670 - mse: 0.2670 - val_loss: 0.2708 - val_mse: 0.2708\n",
      "Epoch 131/300\n",
      "94/94 [==============================] - 0s 1ms/step - loss: 0.2671 - mse: 0.2671 - val_loss: 0.3067 - val_mse: 0.3067\n",
      "Epoch 132/300\n",
      "94/94 [==============================] - 0s 1ms/step - loss: 0.2663 - mse: 0.2663 - val_loss: 0.2676 - val_mse: 0.2676\n",
      "Epoch 133/300\n",
      "94/94 [==============================] - 0s 1ms/step - loss: 0.2663 - mse: 0.2663 - val_loss: 0.2755 - val_mse: 0.2755\n",
      "Epoch 134/300\n",
      "94/94 [==============================] - 0s 1ms/step - loss: 0.2665 - mse: 0.2665 - val_loss: 0.2699 - val_mse: 0.2699\n",
      "Epoch 135/300\n",
      "94/94 [==============================] - 0s 1ms/step - loss: 0.2667 - mse: 0.2667 - val_loss: 0.2696 - val_mse: 0.2696\n",
      "Epoch 136/300\n",
      "94/94 [==============================] - 0s 1ms/step - loss: 0.2665 - mse: 0.2665 - val_loss: 0.2660 - val_mse: 0.2660\n",
      "Epoch 137/300\n",
      "94/94 [==============================] - 0s 1ms/step - loss: 0.2679 - mse: 0.2679 - val_loss: 0.2742 - val_mse: 0.2742\n",
      "Epoch 138/300\n",
      "94/94 [==============================] - 0s 1ms/step - loss: 0.2658 - mse: 0.2658 - val_loss: 0.2750 - val_mse: 0.2750\n",
      "Epoch 139/300\n",
      "94/94 [==============================] - 0s 1ms/step - loss: 0.2675 - mse: 0.2675 - val_loss: 0.2685 - val_mse: 0.2685\n",
      "Epoch 140/300\n",
      "94/94 [==============================] - 0s 1ms/step - loss: 0.2677 - mse: 0.2677 - val_loss: 0.2746 - val_mse: 0.2746\n",
      "Epoch 141/300\n",
      "94/94 [==============================] - 0s 2ms/step - loss: 0.2644 - mse: 0.2644 - val_loss: 0.2614 - val_mse: 0.2614\n",
      "Epoch 142/300\n",
      "94/94 [==============================] - 0s 1ms/step - loss: 0.2675 - mse: 0.2675 - val_loss: 0.2666 - val_mse: 0.2666\n",
      "Epoch 143/300\n",
      "94/94 [==============================] - 0s 1ms/step - loss: 0.2666 - mse: 0.2666 - val_loss: 0.2703 - val_mse: 0.2703\n",
      "Epoch 144/300\n",
      "94/94 [==============================] - 0s 1ms/step - loss: 0.2664 - mse: 0.2664 - val_loss: 0.2679 - val_mse: 0.2679\n",
      "Epoch 145/300\n",
      "94/94 [==============================] - 0s 1ms/step - loss: 0.2656 - mse: 0.2656 - val_loss: 0.2658 - val_mse: 0.2658\n",
      "Epoch 146/300\n",
      "94/94 [==============================] - 0s 1ms/step - loss: 0.2662 - mse: 0.2662 - val_loss: 0.2635 - val_mse: 0.2635\n",
      "Epoch 147/300\n",
      "94/94 [==============================] - 0s 1ms/step - loss: 0.2655 - mse: 0.2655 - val_loss: 0.2795 - val_mse: 0.2795\n",
      "Epoch 148/300\n",
      "94/94 [==============================] - 0s 1ms/step - loss: 0.2669 - mse: 0.2669 - val_loss: 0.2682 - val_mse: 0.2682\n",
      "Epoch 149/300\n",
      "94/94 [==============================] - 0s 1ms/step - loss: 0.2644 - mse: 0.2644 - val_loss: 0.2631 - val_mse: 0.2631\n",
      "Epoch 150/300\n",
      "94/94 [==============================] - 0s 1ms/step - loss: 0.2650 - mse: 0.2650 - val_loss: 0.2847 - val_mse: 0.2847\n",
      "Epoch 151/300\n",
      "94/94 [==============================] - 0s 1ms/step - loss: 0.2650 - mse: 0.2650 - val_loss: 0.2682 - val_mse: 0.2682\n",
      "Epoch 152/300\n",
      "94/94 [==============================] - 0s 1ms/step - loss: 0.2645 - mse: 0.2645 - val_loss: 0.2791 - val_mse: 0.2791\n",
      "Epoch 153/300\n",
      "94/94 [==============================] - 0s 1ms/step - loss: 0.2650 - mse: 0.2650 - val_loss: 0.2848 - val_mse: 0.2848\n",
      "Epoch 154/300\n",
      "94/94 [==============================] - 0s 1ms/step - loss: 0.2659 - mse: 0.2659 - val_loss: 0.2684 - val_mse: 0.2684\n",
      "Epoch 155/300\n",
      "94/94 [==============================] - 0s 1ms/step - loss: 0.2645 - mse: 0.2645 - val_loss: 0.2711 - val_mse: 0.2711\n",
      "Epoch 156/300\n",
      "94/94 [==============================] - 0s 1ms/step - loss: 0.2636 - mse: 0.2636 - val_loss: 0.2786 - val_mse: 0.2786\n",
      "Epoch 157/300\n",
      "94/94 [==============================] - 0s 1ms/step - loss: 0.2653 - mse: 0.2653 - val_loss: 0.2687 - val_mse: 0.2687\n",
      "Epoch 158/300\n",
      "94/94 [==============================] - 0s 1ms/step - loss: 0.2644 - mse: 0.2644 - val_loss: 0.2648 - val_mse: 0.2648\n",
      "Epoch 159/300\n",
      "94/94 [==============================] - 0s 1ms/step - loss: 0.2644 - mse: 0.2644 - val_loss: 0.2652 - val_mse: 0.2652\n",
      "Epoch 160/300\n",
      "94/94 [==============================] - 0s 1ms/step - loss: 0.2644 - mse: 0.2644 - val_loss: 0.2687 - val_mse: 0.2687\n",
      "Epoch 161/300\n",
      "94/94 [==============================] - 0s 1ms/step - loss: 0.2635 - mse: 0.2635 - val_loss: 0.2669 - val_mse: 0.2669\n",
      "Epoch 162/300\n",
      "94/94 [==============================] - 0s 1ms/step - loss: 0.2631 - mse: 0.2631 - val_loss: 0.2658 - val_mse: 0.2658\n",
      "Epoch 163/300\n",
      "94/94 [==============================] - 0s 1ms/step - loss: 0.2649 - mse: 0.2649 - val_loss: 0.2660 - val_mse: 0.2660\n",
      "Epoch 164/300\n",
      "94/94 [==============================] - 0s 1ms/step - loss: 0.2647 - mse: 0.2647 - val_loss: 0.2729 - val_mse: 0.2729\n",
      "Epoch 165/300\n",
      "94/94 [==============================] - 0s 1ms/step - loss: 0.2650 - mse: 0.2650 - val_loss: 0.2647 - val_mse: 0.2647\n",
      "Epoch 166/300\n",
      "94/94 [==============================] - 0s 2ms/step - loss: 0.2649 - mse: 0.2649 - val_loss: 0.2656 - val_mse: 0.2656\n",
      "Epoch 167/300\n",
      "94/94 [==============================] - 0s 1ms/step - loss: 0.2637 - mse: 0.2637 - val_loss: 0.2768 - val_mse: 0.2768\n",
      "Epoch 168/300\n",
      "94/94 [==============================] - 0s 1ms/step - loss: 0.2638 - mse: 0.2638 - val_loss: 0.2669 - val_mse: 0.2669\n",
      "Epoch 169/300\n",
      "94/94 [==============================] - 0s 1ms/step - loss: 0.2637 - mse: 0.2637 - val_loss: 0.2689 - val_mse: 0.2689\n",
      "Epoch 170/300\n",
      "94/94 [==============================] - 0s 1ms/step - loss: 0.2639 - mse: 0.2639 - val_loss: 0.2773 - val_mse: 0.2773\n",
      "Epoch 171/300\n",
      "94/94 [==============================] - 0s 1ms/step - loss: 0.2629 - mse: 0.2629 - val_loss: 0.2688 - val_mse: 0.2688\n",
      "Epoch 172/300\n",
      "94/94 [==============================] - 0s 1ms/step - loss: 0.2643 - mse: 0.2643 - val_loss: 0.2673 - val_mse: 0.2673\n",
      "Epoch 173/300\n",
      "94/94 [==============================] - 0s 1ms/step - loss: 0.2638 - mse: 0.2638 - val_loss: 0.2724 - val_mse: 0.2724\n",
      "Epoch 174/300\n",
      "94/94 [==============================] - 0s 1ms/step - loss: 0.2634 - mse: 0.2634 - val_loss: 0.2970 - val_mse: 0.2970\n",
      "Epoch 175/300\n",
      "94/94 [==============================] - 0s 1ms/step - loss: 0.2629 - mse: 0.2629 - val_loss: 0.2713 - val_mse: 0.2713\n",
      "Epoch 176/300\n",
      "94/94 [==============================] - 0s 1ms/step - loss: 0.2638 - mse: 0.2638 - val_loss: 0.2816 - val_mse: 0.2816\n",
      "Epoch 177/300\n",
      "94/94 [==============================] - 0s 1ms/step - loss: 0.2626 - mse: 0.2626 - val_loss: 0.2714 - val_mse: 0.2714\n",
      "Epoch 178/300\n",
      "94/94 [==============================] - 0s 1ms/step - loss: 0.2626 - mse: 0.2626 - val_loss: 0.2711 - val_mse: 0.2711\n",
      "Epoch 179/300\n",
      "94/94 [==============================] - 0s 1ms/step - loss: 0.2619 - mse: 0.2619 - val_loss: 0.2679 - val_mse: 0.2679\n",
      "Epoch 180/300\n",
      "94/94 [==============================] - 0s 1ms/step - loss: 0.2634 - mse: 0.2634 - val_loss: 0.2709 - val_mse: 0.2709\n",
      "Epoch 181/300\n",
      "94/94 [==============================] - 0s 1ms/step - loss: 0.2619 - mse: 0.2619 - val_loss: 0.2712 - val_mse: 0.2712\n",
      "Epoch 182/300\n",
      "94/94 [==============================] - 0s 1ms/step - loss: 0.2633 - mse: 0.2633 - val_loss: 0.2671 - val_mse: 0.2671\n",
      "Epoch 183/300\n",
      "94/94 [==============================] - 0s 1ms/step - loss: 0.2624 - mse: 0.2624 - val_loss: 0.2698 - val_mse: 0.2698\n",
      "Epoch 184/300\n",
      "94/94 [==============================] - 0s 1ms/step - loss: 0.2629 - mse: 0.2629 - val_loss: 0.2652 - val_mse: 0.2652\n",
      "Epoch 185/300\n",
      "94/94 [==============================] - 0s 1ms/step - loss: 0.2607 - mse: 0.2607 - val_loss: 0.2720 - val_mse: 0.2720\n",
      "Epoch 186/300\n",
      "94/94 [==============================] - 0s 1ms/step - loss: 0.2624 - mse: 0.2624 - val_loss: 0.2718 - val_mse: 0.2718\n",
      "Epoch 187/300\n",
      "94/94 [==============================] - 0s 1ms/step - loss: 0.2637 - mse: 0.2637 - val_loss: 0.2690 - val_mse: 0.2690\n",
      "Epoch 188/300\n",
      "94/94 [==============================] - 0s 1ms/step - loss: 0.2619 - mse: 0.2619 - val_loss: 0.2653 - val_mse: 0.2653\n",
      "Epoch 189/300\n",
      "94/94 [==============================] - 0s 1ms/step - loss: 0.2617 - mse: 0.2617 - val_loss: 0.2735 - val_mse: 0.2735\n",
      "Epoch 190/300\n",
      "94/94 [==============================] - 0s 1ms/step - loss: 0.2638 - mse: 0.2638 - val_loss: 0.2681 - val_mse: 0.2681\n",
      "Epoch 191/300\n",
      "94/94 [==============================] - 0s 1ms/step - loss: 0.2628 - mse: 0.2628 - val_loss: 0.2785 - val_mse: 0.2785\n",
      "Epoch 192/300\n",
      "94/94 [==============================] - 0s 1ms/step - loss: 0.2607 - mse: 0.2607 - val_loss: 0.2755 - val_mse: 0.2755\n",
      "Epoch 193/300\n",
      "94/94 [==============================] - 0s 1ms/step - loss: 0.2624 - mse: 0.2624 - val_loss: 0.2729 - val_mse: 0.2729\n",
      "Epoch 194/300\n",
      "94/94 [==============================] - 0s 1ms/step - loss: 0.2615 - mse: 0.2615 - val_loss: 0.2668 - val_mse: 0.2668\n",
      "Epoch 195/300\n",
      "94/94 [==============================] - 0s 1ms/step - loss: 0.2617 - mse: 0.2617 - val_loss: 0.2689 - val_mse: 0.2689\n",
      "Epoch 196/300\n",
      "94/94 [==============================] - 0s 1ms/step - loss: 0.2609 - mse: 0.2609 - val_loss: 0.2876 - val_mse: 0.2876\n",
      "Epoch 197/300\n",
      "94/94 [==============================] - 0s 2ms/step - loss: 0.2617 - mse: 0.2617 - val_loss: 0.2709 - val_mse: 0.2709\n",
      "Epoch 198/300\n",
      "94/94 [==============================] - 0s 1ms/step - loss: 0.2611 - mse: 0.2611 - val_loss: 0.2736 - val_mse: 0.2736\n",
      "Epoch 199/300\n",
      "94/94 [==============================] - 0s 1ms/step - loss: 0.2613 - mse: 0.2613 - val_loss: 0.2708 - val_mse: 0.2708\n",
      "Epoch 200/300\n",
      "94/94 [==============================] - 0s 1ms/step - loss: 0.2623 - mse: 0.2623 - val_loss: 0.2689 - val_mse: 0.2689\n",
      "Epoch 201/300\n",
      "94/94 [==============================] - 0s 1ms/step - loss: 0.2617 - mse: 0.2617 - val_loss: 0.2697 - val_mse: 0.2697\n",
      "Epoch 202/300\n",
      "94/94 [==============================] - 0s 1ms/step - loss: 0.2607 - mse: 0.2607 - val_loss: 0.2649 - val_mse: 0.2649\n",
      "Epoch 203/300\n",
      "94/94 [==============================] - 0s 1ms/step - loss: 0.2604 - mse: 0.2604 - val_loss: 0.2835 - val_mse: 0.2835\n",
      "Epoch 204/300\n",
      "94/94 [==============================] - 0s 1ms/step - loss: 0.2616 - mse: 0.2616 - val_loss: 0.2665 - val_mse: 0.2665\n",
      "Epoch 205/300\n",
      "94/94 [==============================] - 0s 1ms/step - loss: 0.2617 - mse: 0.2617 - val_loss: 0.2800 - val_mse: 0.2800\n",
      "Epoch 206/300\n",
      "94/94 [==============================] - 0s 1ms/step - loss: 0.2615 - mse: 0.2615 - val_loss: 0.2663 - val_mse: 0.2663\n",
      "Epoch 207/300\n",
      "94/94 [==============================] - 0s 1ms/step - loss: 0.2615 - mse: 0.2615 - val_loss: 0.2676 - val_mse: 0.2676\n",
      "Epoch 208/300\n",
      "94/94 [==============================] - 0s 1ms/step - loss: 0.2598 - mse: 0.2598 - val_loss: 0.2668 - val_mse: 0.2668\n",
      "Epoch 209/300\n",
      "94/94 [==============================] - 0s 1ms/step - loss: 0.2596 - mse: 0.2596 - val_loss: 0.2763 - val_mse: 0.2763\n",
      "Epoch 210/300\n",
      "94/94 [==============================] - 0s 1ms/step - loss: 0.2606 - mse: 0.2606 - val_loss: 0.2680 - val_mse: 0.2680\n",
      "Epoch 211/300\n",
      "94/94 [==============================] - 0s 1ms/step - loss: 0.2628 - mse: 0.2628 - val_loss: 0.2703 - val_mse: 0.2703\n",
      "Epoch 212/300\n",
      "94/94 [==============================] - 0s 1ms/step - loss: 0.2603 - mse: 0.2603 - val_loss: 0.2664 - val_mse: 0.2664\n",
      "Epoch 213/300\n",
      "94/94 [==============================] - 0s 2ms/step - loss: 0.2593 - mse: 0.2593 - val_loss: 0.2692 - val_mse: 0.2692\n",
      "Epoch 214/300\n",
      "94/94 [==============================] - 0s 1ms/step - loss: 0.2596 - mse: 0.2596 - val_loss: 0.2716 - val_mse: 0.2716\n",
      "Epoch 215/300\n",
      "94/94 [==============================] - 0s 1ms/step - loss: 0.2604 - mse: 0.2604 - val_loss: 0.2730 - val_mse: 0.2730\n",
      "Epoch 216/300\n",
      "94/94 [==============================] - 0s 1ms/step - loss: 0.2590 - mse: 0.2590 - val_loss: 0.2734 - val_mse: 0.2734\n",
      "Epoch 217/300\n",
      "94/94 [==============================] - 0s 1ms/step - loss: 0.2606 - mse: 0.2606 - val_loss: 0.2657 - val_mse: 0.2657\n",
      "Epoch 218/300\n",
      "94/94 [==============================] - 0s 1ms/step - loss: 0.2608 - mse: 0.2608 - val_loss: 0.2717 - val_mse: 0.2717\n",
      "Epoch 219/300\n",
      "94/94 [==============================] - 0s 1ms/step - loss: 0.2600 - mse: 0.2600 - val_loss: 0.2722 - val_mse: 0.2722\n",
      "Epoch 220/300\n",
      "94/94 [==============================] - 0s 1ms/step - loss: 0.2600 - mse: 0.2600 - val_loss: 0.2682 - val_mse: 0.2682\n",
      "Epoch 221/300\n",
      "94/94 [==============================] - 0s 1ms/step - loss: 0.2608 - mse: 0.2608 - val_loss: 0.2712 - val_mse: 0.2712\n",
      "Epoch 222/300\n",
      "94/94 [==============================] - 0s 1ms/step - loss: 0.2584 - mse: 0.2584 - val_loss: 0.2651 - val_mse: 0.2651\n",
      "Epoch 223/300\n",
      "94/94 [==============================] - 0s 1ms/step - loss: 0.2582 - mse: 0.2582 - val_loss: 0.2832 - val_mse: 0.2832\n",
      "Epoch 224/300\n",
      "94/94 [==============================] - 0s 1ms/step - loss: 0.2605 - mse: 0.2605 - val_loss: 0.2671 - val_mse: 0.2671\n",
      "Epoch 225/300\n",
      "94/94 [==============================] - 0s 1ms/step - loss: 0.2600 - mse: 0.2600 - val_loss: 0.2657 - val_mse: 0.2657\n",
      "Epoch 226/300\n",
      "94/94 [==============================] - 0s 1ms/step - loss: 0.2591 - mse: 0.2591 - val_loss: 0.2643 - val_mse: 0.2643\n",
      "Epoch 227/300\n",
      "94/94 [==============================] - 0s 1ms/step - loss: 0.2601 - mse: 0.2601 - val_loss: 0.2726 - val_mse: 0.2726\n",
      "Epoch 228/300\n",
      "94/94 [==============================] - 0s 2ms/step - loss: 0.2586 - mse: 0.2586 - val_loss: 0.2649 - val_mse: 0.2649\n",
      "Epoch 229/300\n",
      "94/94 [==============================] - 0s 1ms/step - loss: 0.2599 - mse: 0.2599 - val_loss: 0.2717 - val_mse: 0.2717\n",
      "Epoch 230/300\n",
      "94/94 [==============================] - 0s 1ms/step - loss: 0.2606 - mse: 0.2606 - val_loss: 0.2681 - val_mse: 0.2681\n",
      "Epoch 231/300\n",
      "94/94 [==============================] - 0s 1ms/step - loss: 0.2579 - mse: 0.2579 - val_loss: 0.2668 - val_mse: 0.2668\n",
      "Epoch 232/300\n",
      "94/94 [==============================] - 0s 1ms/step - loss: 0.2591 - mse: 0.2591 - val_loss: 0.2720 - val_mse: 0.2720\n",
      "Epoch 233/300\n",
      "94/94 [==============================] - 0s 1ms/step - loss: 0.2605 - mse: 0.2605 - val_loss: 0.2699 - val_mse: 0.2699\n",
      "Epoch 234/300\n",
      "94/94 [==============================] - 0s 1ms/step - loss: 0.2590 - mse: 0.2590 - val_loss: 0.2745 - val_mse: 0.2745\n",
      "Epoch 235/300\n",
      "94/94 [==============================] - 0s 1ms/step - loss: 0.2596 - mse: 0.2596 - val_loss: 0.2688 - val_mse: 0.2688\n",
      "Epoch 236/300\n",
      "94/94 [==============================] - 0s 1ms/step - loss: 0.2585 - mse: 0.2585 - val_loss: 0.2687 - val_mse: 0.2687\n",
      "Epoch 237/300\n",
      "94/94 [==============================] - 0s 1ms/step - loss: 0.2589 - mse: 0.2589 - val_loss: 0.2681 - val_mse: 0.2681\n",
      "Epoch 238/300\n",
      "94/94 [==============================] - 0s 1ms/step - loss: 0.2577 - mse: 0.2577 - val_loss: 0.2704 - val_mse: 0.2704\n",
      "Epoch 239/300\n",
      "94/94 [==============================] - 0s 1ms/step - loss: 0.2582 - mse: 0.2582 - val_loss: 0.2809 - val_mse: 0.2809\n",
      "Epoch 240/300\n",
      "94/94 [==============================] - 0s 1ms/step - loss: 0.2598 - mse: 0.2598 - val_loss: 0.2728 - val_mse: 0.2728\n",
      "Epoch 241/300\n",
      "94/94 [==============================] - 0s 1ms/step - loss: 0.2589 - mse: 0.2589 - val_loss: 0.2693 - val_mse: 0.2693\n",
      "Epoch 242/300\n",
      "94/94 [==============================] - 0s 1ms/step - loss: 0.2590 - mse: 0.2590 - val_loss: 0.2727 - val_mse: 0.2727\n",
      "Epoch 243/300\n",
      "94/94 [==============================] - 0s 1ms/step - loss: 0.2582 - mse: 0.2582 - val_loss: 0.2815 - val_mse: 0.2815\n",
      "Epoch 244/300\n",
      "94/94 [==============================] - 0s 1ms/step - loss: 0.2593 - mse: 0.2593 - val_loss: 0.2729 - val_mse: 0.2729\n",
      "Epoch 245/300\n",
      "94/94 [==============================] - 0s 1ms/step - loss: 0.2582 - mse: 0.2582 - val_loss: 0.2726 - val_mse: 0.2726\n",
      "Epoch 246/300\n",
      "94/94 [==============================] - 0s 1ms/step - loss: 0.2586 - mse: 0.2586 - val_loss: 0.2679 - val_mse: 0.2679\n",
      "Epoch 247/300\n",
      "94/94 [==============================] - 0s 1ms/step - loss: 0.2579 - mse: 0.2579 - val_loss: 0.2777 - val_mse: 0.2777\n",
      "Epoch 248/300\n",
      "94/94 [==============================] - 0s 1ms/step - loss: 0.2586 - mse: 0.2586 - val_loss: 0.2686 - val_mse: 0.2686\n",
      "Epoch 249/300\n",
      "94/94 [==============================] - 0s 1ms/step - loss: 0.2584 - mse: 0.2584 - val_loss: 0.2647 - val_mse: 0.2647\n",
      "Epoch 250/300\n",
      "94/94 [==============================] - 0s 1ms/step - loss: 0.2579 - mse: 0.2579 - val_loss: 0.2647 - val_mse: 0.2647\n",
      "Epoch 251/300\n",
      "94/94 [==============================] - 0s 1ms/step - loss: 0.2575 - mse: 0.2575 - val_loss: 0.2709 - val_mse: 0.2709\n",
      "Epoch 252/300\n",
      "94/94 [==============================] - 0s 1ms/step - loss: 0.2574 - mse: 0.2574 - val_loss: 0.2729 - val_mse: 0.2729\n",
      "Epoch 253/300\n",
      "94/94 [==============================] - 0s 1ms/step - loss: 0.2571 - mse: 0.2571 - val_loss: 0.2693 - val_mse: 0.2693\n",
      "Epoch 254/300\n",
      "94/94 [==============================] - 0s 1ms/step - loss: 0.2580 - mse: 0.2580 - val_loss: 0.2701 - val_mse: 0.2701\n",
      "Epoch 255/300\n",
      "94/94 [==============================] - 0s 1ms/step - loss: 0.2572 - mse: 0.2572 - val_loss: 0.2664 - val_mse: 0.2664\n",
      "Epoch 256/300\n",
      "94/94 [==============================] - 0s 1ms/step - loss: 0.2574 - mse: 0.2574 - val_loss: 0.2673 - val_mse: 0.2673\n",
      "Epoch 257/300\n",
      "94/94 [==============================] - 0s 1ms/step - loss: 0.2576 - mse: 0.2576 - val_loss: 0.2674 - val_mse: 0.2674\n",
      "Epoch 258/300\n",
      "94/94 [==============================] - 0s 1ms/step - loss: 0.2580 - mse: 0.2580 - val_loss: 0.2731 - val_mse: 0.2731\n",
      "Epoch 259/300\n",
      "94/94 [==============================] - 0s 2ms/step - loss: 0.2559 - mse: 0.2559 - val_loss: 0.2713 - val_mse: 0.2713\n",
      "Epoch 260/300\n",
      "94/94 [==============================] - 0s 1ms/step - loss: 0.2581 - mse: 0.2581 - val_loss: 0.2695 - val_mse: 0.2695\n",
      "Epoch 261/300\n",
      "94/94 [==============================] - 0s 1ms/step - loss: 0.2584 - mse: 0.2584 - val_loss: 0.2847 - val_mse: 0.2847\n",
      "Epoch 262/300\n",
      "94/94 [==============================] - 0s 2ms/step - loss: 0.2577 - mse: 0.2577 - val_loss: 0.2743 - val_mse: 0.2743\n",
      "Epoch 263/300\n",
      "94/94 [==============================] - 0s 1ms/step - loss: 0.2576 - mse: 0.2576 - val_loss: 0.2680 - val_mse: 0.2680\n",
      "Epoch 264/300\n",
      "94/94 [==============================] - 0s 1ms/step - loss: 0.2574 - mse: 0.2574 - val_loss: 0.2850 - val_mse: 0.2850\n",
      "Epoch 265/300\n",
      "94/94 [==============================] - 0s 1ms/step - loss: 0.2570 - mse: 0.2570 - val_loss: 0.2715 - val_mse: 0.2715\n",
      "Epoch 266/300\n",
      "94/94 [==============================] - 0s 1ms/step - loss: 0.2569 - mse: 0.2569 - val_loss: 0.2721 - val_mse: 0.2721\n",
      "Epoch 267/300\n",
      "94/94 [==============================] - 0s 1ms/step - loss: 0.2575 - mse: 0.2575 - val_loss: 0.2690 - val_mse: 0.2690\n",
      "Epoch 268/300\n",
      "94/94 [==============================] - 0s 1ms/step - loss: 0.2574 - mse: 0.2574 - val_loss: 0.2722 - val_mse: 0.2722\n",
      "Epoch 269/300\n",
      "94/94 [==============================] - 0s 1ms/step - loss: 0.2579 - mse: 0.2579 - val_loss: 0.2656 - val_mse: 0.2656\n",
      "Epoch 270/300\n",
      "94/94 [==============================] - 0s 1ms/step - loss: 0.2576 - mse: 0.2576 - val_loss: 0.2660 - val_mse: 0.2660\n",
      "Epoch 271/300\n",
      "94/94 [==============================] - 0s 1ms/step - loss: 0.2563 - mse: 0.2563 - val_loss: 0.2667 - val_mse: 0.2667\n",
      "Epoch 272/300\n",
      "94/94 [==============================] - 0s 1ms/step - loss: 0.2571 - mse: 0.2571 - val_loss: 0.2661 - val_mse: 0.2661\n",
      "Epoch 273/300\n",
      "94/94 [==============================] - 0s 1ms/step - loss: 0.2573 - mse: 0.2573 - val_loss: 0.2716 - val_mse: 0.2716\n",
      "Epoch 274/300\n",
      "94/94 [==============================] - 0s 1ms/step - loss: 0.2568 - mse: 0.2568 - val_loss: 0.2737 - val_mse: 0.2737\n",
      "Epoch 275/300\n",
      "94/94 [==============================] - 0s 1ms/step - loss: 0.2567 - mse: 0.2567 - val_loss: 0.2747 - val_mse: 0.2747\n",
      "Epoch 276/300\n",
      "94/94 [==============================] - 0s 1ms/step - loss: 0.2570 - mse: 0.2570 - val_loss: 0.2698 - val_mse: 0.2698\n",
      "Epoch 277/300\n",
      "94/94 [==============================] - 0s 1ms/step - loss: 0.2569 - mse: 0.2569 - val_loss: 0.2704 - val_mse: 0.2704\n",
      "Epoch 278/300\n",
      "94/94 [==============================] - 0s 1ms/step - loss: 0.2578 - mse: 0.2578 - val_loss: 0.2734 - val_mse: 0.2734\n",
      "Epoch 279/300\n",
      "94/94 [==============================] - 0s 1ms/step - loss: 0.2566 - mse: 0.2566 - val_loss: 0.2669 - val_mse: 0.2669\n",
      "Epoch 280/300\n",
      "94/94 [==============================] - 0s 1ms/step - loss: 0.2567 - mse: 0.2567 - val_loss: 0.2692 - val_mse: 0.2692\n",
      "Epoch 281/300\n",
      "94/94 [==============================] - 0s 1ms/step - loss: 0.2564 - mse: 0.2564 - val_loss: 0.2674 - val_mse: 0.2674\n",
      "Epoch 282/300\n",
      "94/94 [==============================] - 0s 2ms/step - loss: 0.2567 - mse: 0.2567 - val_loss: 0.2704 - val_mse: 0.2704\n",
      "Epoch 283/300\n",
      "94/94 [==============================] - 0s 2ms/step - loss: 0.2561 - mse: 0.2561 - val_loss: 0.2802 - val_mse: 0.2802\n",
      "Epoch 284/300\n",
      "94/94 [==============================] - 0s 1ms/step - loss: 0.2565 - mse: 0.2565 - val_loss: 0.2734 - val_mse: 0.2734\n",
      "Epoch 285/300\n",
      "94/94 [==============================] - 0s 1ms/step - loss: 0.2567 - mse: 0.2567 - val_loss: 0.2698 - val_mse: 0.2698\n",
      "Epoch 286/300\n",
      "94/94 [==============================] - 0s 1ms/step - loss: 0.2561 - mse: 0.2561 - val_loss: 0.2805 - val_mse: 0.2805\n",
      "Epoch 287/300\n",
      "94/94 [==============================] - 0s 1ms/step - loss: 0.2574 - mse: 0.2574 - val_loss: 0.2718 - val_mse: 0.2718\n",
      "Epoch 288/300\n",
      "94/94 [==============================] - 0s 1ms/step - loss: 0.2576 - mse: 0.2576 - val_loss: 0.2684 - val_mse: 0.2684\n",
      "Epoch 289/300\n",
      "94/94 [==============================] - 0s 1ms/step - loss: 0.2567 - mse: 0.2567 - val_loss: 0.2662 - val_mse: 0.2662\n",
      "Epoch 290/300\n",
      "94/94 [==============================] - 0s 1ms/step - loss: 0.2561 - mse: 0.2561 - val_loss: 0.2777 - val_mse: 0.2777\n",
      "Epoch 291/300\n",
      "94/94 [==============================] - 0s 1ms/step - loss: 0.2564 - mse: 0.2564 - val_loss: 0.2717 - val_mse: 0.2717\n",
      "Epoch 292/300\n",
      "94/94 [==============================] - 0s 1ms/step - loss: 0.2565 - mse: 0.2565 - val_loss: 0.2756 - val_mse: 0.2756\n",
      "Epoch 293/300\n",
      "94/94 [==============================] - 0s 1ms/step - loss: 0.2561 - mse: 0.2561 - val_loss: 0.2672 - val_mse: 0.2672\n",
      "Epoch 294/300\n",
      "94/94 [==============================] - 0s 1ms/step - loss: 0.2555 - mse: 0.2555 - val_loss: 0.2772 - val_mse: 0.2772\n",
      "Epoch 295/300\n",
      "94/94 [==============================] - 0s 2ms/step - loss: 0.2555 - mse: 0.2555 - val_loss: 0.2676 - val_mse: 0.2676\n",
      "Epoch 296/300\n",
      "94/94 [==============================] - 0s 1ms/step - loss: 0.2554 - mse: 0.2554 - val_loss: 0.2720 - val_mse: 0.2720\n",
      "Epoch 297/300\n",
      "94/94 [==============================] - 0s 1ms/step - loss: 0.2562 - mse: 0.2562 - val_loss: 0.2673 - val_mse: 0.2673\n",
      "Epoch 298/300\n",
      "94/94 [==============================] - 0s 1ms/step - loss: 0.2558 - mse: 0.2558 - val_loss: 0.2694 - val_mse: 0.2694\n",
      "Epoch 299/300\n",
      "94/94 [==============================] - 0s 1ms/step - loss: 0.2568 - mse: 0.2568 - val_loss: 0.2697 - val_mse: 0.2697\n",
      "Epoch 300/300\n",
      "94/94 [==============================] - 0s 1ms/step - loss: 0.2561 - mse: 0.2561 - val_loss: 0.2696 - val_mse: 0.2696\n"
     ]
    }
   ],
   "source": [
    "history = model1.fit(x=x_train, y=y_train, \n",
    "          batch_size=32, epochs=300,\n",
    "          shuffle=True, # a good idea is to shuffle input before at each epoch\n",
    "          validation_data=(x_valid, y_valid))"
   ]
  },
  {
   "cell_type": "code",
   "execution_count": null,
   "metadata": {
    "colab": {
     "base_uri": "https://localhost:8080/"
    },
    "executionInfo": {
     "elapsed": 22,
     "status": "ok",
     "timestamp": 1625503989730,
     "user": {
      "displayName": "Brandon Tatani",
      "photoUrl": "",
      "userId": "12981437968527834494"
     },
     "user_tz": -120
    },
    "id": "hlPhWw3ujX-B",
    "outputId": "fca4c76e-479f-47e7-b15f-8976ab58b25a"
   },
   "outputs": [
    {
     "name": "stdout",
     "output_type": "stream",
     "text": [
      "4/4 [==============================] - 0s 3ms/step - loss: 0.2696 - mse: 0.2696\n",
      "\n",
      "Test loss: 0.2695785462856293\n",
      "Test accuracy: 0.2695785462856293\n"
     ]
    }
   ],
   "source": [
    "# evaluate model\n",
    "score = model1.evaluate(x_valid, y_valid, batch_size=32, verbose=1)\n",
    "\n",
    "# print performance\n",
    "print()\n",
    "print('Test loss:', score[0])\n",
    "print('Test accuracy:', score[1])"
   ]
  },
  {
   "cell_type": "code",
   "execution_count": null,
   "metadata": {
    "colab": {
     "base_uri": "https://localhost:8080/"
    },
    "executionInfo": {
     "elapsed": 466,
     "status": "ok",
     "timestamp": 1625503990189,
     "user": {
      "displayName": "Brandon Tatani",
      "photoUrl": "",
      "userId": "12981437968527834494"
     },
     "user_tz": -120
    },
    "id": "tLcrK_RQjcND",
    "outputId": "5fd9189c-a624-4231-91a4-bf2736ec37dc"
   },
   "outputs": [
    {
     "name": "stdout",
     "output_type": "stream",
     "text": [
      "4/4 [==============================] - 0s 2ms/step - loss: 0.0075 - mse: 0.0075\n",
      "\n",
      "Test loss: 0.007483212742954493\n",
      "Test accuracy: 0.007483212742954493\n"
     ]
    }
   ],
   "source": [
    "# evaluate model with the exact curve\n",
    "score = model1.evaluate(x_valid, y_target, batch_size=32, verbose=1)\n",
    "\n",
    "# print performance\n",
    "print()\n",
    "print('Test loss:', score[0])\n",
    "print('Test accuracy:', score[1])"
   ]
  },
  {
   "cell_type": "code",
   "execution_count": null,
   "metadata": {
    "colab": {
     "base_uri": "https://localhost:8080/",
     "height": 295
    },
    "executionInfo": {
     "elapsed": 9,
     "status": "ok",
     "timestamp": 1625503990190,
     "user": {
      "displayName": "Brandon Tatani",
      "photoUrl": "",
      "userId": "12981437968527834494"
     },
     "user_tz": -120
    },
    "id": "GhWwnYGdjkKr",
    "outputId": "211362f9-2181-4ed5-baa3-dc9a245b1a96"
   },
   "outputs": [
    {
     "data": {
      "image/png": "[encoded data removed]",
      "text/plain": [
       "<Figure size 432x288 with 1 Axes>"
      ]
     },
     "metadata": {
      "needs_background": "light",
      "tags": []
     },
     "output_type": "display_data"
    }
   ],
   "source": [
    "# look into training history\n",
    "# Plot training & validation loss values\n",
    "plt.plot(history.history['loss'])\n",
    "plt.plot(history.history['val_loss'])\n",
    "plt.title('Model loss')\n",
    "plt.ylabel('Loss')\n",
    "plt.xlabel('Epoch')\n",
    "plt.legend(['Train', 'Test'], loc='best')\n",
    "plt.show()"
   ]
  },
  {
   "cell_type": "code",
   "execution_count": null,
   "metadata": {
    "colab": {
     "base_uri": "https://localhost:8080/",
     "height": 265
    },
    "executionInfo": {
     "elapsed": 465,
     "status": "ok",
     "timestamp": 1625503990650,
     "user": {
      "displayName": "Brandon Tatani",
      "photoUrl": "",
      "userId": "12981437968527834494"
     },
     "user_tz": -120
    },
    "id": "YTteNg7UhVtM",
    "outputId": "091edd76-0d2a-4841-e35e-e64275a85817"
   },
   "outputs": [
    {
     "data": {
      "image/png": "[encoded data removed]",
      "text/plain": [
       "<Figure size 432x288 with 1 Axes>"
      ]
     },
     "metadata": {
      "needs_background": "light",
      "tags": []
     },
     "output_type": "display_data"
    }
   ],
   "source": [
    "x_predicted = np.random.uniform(-1, 1, 100)\n",
    "y_predicted = model1.predict(x_predicted)\n",
    "#print(y_predicted)\n",
    "plt.scatter(x_predicted, y_predicted,color='r')\n",
    "plt.plot(x_valid, y_target)\n",
    "plt.grid(True)\n",
    "plt.show()"
   ]
  },
  {
   "cell_type": "code",
   "execution_count": 49,
   "metadata": {
    "colab": {
     "base_uri": "https://localhost:8080/"
    },
    "executionInfo": {
     "elapsed": 355,
     "status": "ok",
     "timestamp": 1625679829073,
     "user": {
      "displayName": "Brandon Tatani",
      "photoUrl": "",
      "userId": "12981437968527834494"
     },
     "user_tz": -120
    },
    "id": "oe-c-uBtjWRF",
    "outputId": "98cf78f8-e795-4b2e-fc1f-76a48abac68e"
   },
   "outputs": [
    {
     "name": "stdout",
     "output_type": "stream",
     "text": [
      "Model: \"sequential_11\"\n",
      "_________________________________________________________________\n",
      "Layer (type)                 Output Shape              Param #   \n",
      "=================================================================\n",
      "dense_51 (Dense)             (None, 3)                 6         \n",
      "_________________________________________________________________\n",
      "dense_52 (Dense)             (None, 4)                 16        \n",
      "_________________________________________________________________\n",
      "dense_53 (Dense)             (None, 6)                 30        \n",
      "_________________________________________________________________\n",
      "dense_54 (Dense)             (None, 4)                 28        \n",
      "_________________________________________________________________\n",
      "dense_55 (Dense)             (None, 1)                 5         \n",
      "=================================================================\n",
      "Total params: 85\n",
      "Trainable params: 85\n",
      "Non-trainable params: 0\n",
      "_________________________________________________________________\n"
     ]
    }
   ],
   "source": [
    "from keras.optimizers import SGD, Adam, RMSprop, Adagrad, Adadelta, Adam, Adamax, Nadam\n",
    "model2 = tf.keras.Sequential()\n",
    "model2.add(Dense(3, input_shape=(1,)))\n",
    "model2.add(Dense(4, activation='relu'))\n",
    "model2.add(Dense(6, activation='relu'))\n",
    "model2.add(Dense(4, activation='relu'))\n",
    "model2.add(Dense(1, activation='relu'))\n",
    "\n",
    "# compile the model choosing optimizer, loss and metrics objects\n",
    "model2.compile(optimizer='adam', loss='mse', metrics=['mse'])\n",
    "model2.summary()"
   ]
  },
  {
   "cell_type": "code",
   "execution_count": 50,
   "metadata": {
    "colab": {
     "base_uri": "https://localhost:8080/"
    },
    "executionInfo": {
     "elapsed": 41767,
     "status": "ok",
     "timestamp": 1625679718534,
     "user": {
      "displayName": "Brandon Tatani",
      "photoUrl": "",
      "userId": "12981437968527834494"
     },
     "user_tz": -120
    },
    "id": "k8STF9tohgcB",
    "outputId": "9a7f51e5-e09e-47a4-8377-1339ce8cd9ef",
    "scrolled": true
   },
   "outputs": [
    {
     "name": "stdout",
     "output_type": "stream",
     "text": [
      "Epoch 1/50\n",
      "94/94 [==============================] - 1s 14ms/step - loss: 10.0715 - mse: 10.0715 - val_loss: 7.3094 - val_mse: 7.3094\n",
      "Epoch 2/50\n",
      "94/94 [==============================] - 1s 14ms/step - loss: 4.0704 - mse: 4.0704 - val_loss: 1.3189 - val_mse: 1.3189\n",
      "Epoch 3/50\n",
      "94/94 [==============================] - 1s 11ms/step - loss: 0.9707 - mse: 0.9707 - val_loss: 0.6341 - val_mse: 0.6341\n",
      "Epoch 4/50\n",
      "94/94 [==============================] - 1s 11ms/step - loss: 0.8490 - mse: 0.8490 - val_loss: 0.6091 - val_mse: 0.6091\n",
      "Epoch 5/50\n",
      "94/94 [==============================] - 1s 13ms/step - loss: 0.8145 - mse: 0.8145 - val_loss: 0.5842 - val_mse: 0.5842\n",
      "Epoch 6/50\n",
      "94/94 [==============================] - 1s 15ms/step - loss: 0.7895 - mse: 0.7895 - val_loss: 0.5762 - val_mse: 0.5762\n",
      "Epoch 7/50\n",
      "94/94 [==============================] - 1s 12ms/step - loss: 0.7712 - mse: 0.7712 - val_loss: 0.5579 - val_mse: 0.5579\n",
      "Epoch 8/50\n",
      "94/94 [==============================] - 1s 14ms/step - loss: 0.7513 - mse: 0.7513 - val_loss: 0.5493 - val_mse: 0.5493\n",
      "Epoch 9/50\n",
      "94/94 [==============================] - 1s 15ms/step - loss: 0.7248 - mse: 0.7248 - val_loss: 0.5249 - val_mse: 0.5249\n",
      "Epoch 10/50\n",
      "94/94 [==============================] - 1s 12ms/step - loss: 0.6900 - mse: 0.6900 - val_loss: 0.5010 - val_mse: 0.5010\n",
      "Epoch 11/50\n",
      "94/94 [==============================] - 1s 11ms/step - loss: 0.6315 - mse: 0.6315 - val_loss: 0.4397 - val_mse: 0.4397\n",
      "Epoch 12/50\n",
      "94/94 [==============================] - 1s 12ms/step - loss: 0.5412 - mse: 0.5412 - val_loss: 0.3773 - val_mse: 0.3773\n",
      "Epoch 13/50\n",
      "94/94 [==============================] - 1s 15ms/step - loss: 0.4504 - mse: 0.4504 - val_loss: 0.3340 - val_mse: 0.3340\n",
      "Epoch 14/50\n",
      "94/94 [==============================] - 1s 14ms/step - loss: 0.3871 - mse: 0.3871 - val_loss: 0.3211 - val_mse: 0.3211\n",
      "Epoch 15/50\n",
      "94/94 [==============================] - 1s 13ms/step - loss: 0.3407 - mse: 0.3407 - val_loss: 0.2950 - val_mse: 0.2950\n",
      "Epoch 16/50\n",
      "94/94 [==============================] - 1s 15ms/step - loss: 0.3106 - mse: 0.3106 - val_loss: 0.2877 - val_mse: 0.2877\n",
      "Epoch 17/50\n",
      "94/94 [==============================] - 1s 13ms/step - loss: 0.2912 - mse: 0.2912 - val_loss: 0.2836 - val_mse: 0.2836\n",
      "Epoch 18/50\n",
      "94/94 [==============================] - 1s 11ms/step - loss: 0.2809 - mse: 0.2809 - val_loss: 0.2716 - val_mse: 0.2716\n",
      "Epoch 19/50\n",
      "94/94 [==============================] - 1s 12ms/step - loss: 0.2749 - mse: 0.2749 - val_loss: 0.2692 - val_mse: 0.2692\n",
      "Epoch 20/50\n",
      "94/94 [==============================] - 1s 11ms/step - loss: 0.2732 - mse: 0.2732 - val_loss: 0.2718 - val_mse: 0.2718\n",
      "Epoch 21/50\n",
      "94/94 [==============================] - 1s 14ms/step - loss: 0.2681 - mse: 0.2681 - val_loss: 0.2699 - val_mse: 0.2699\n",
      "Epoch 22/50\n",
      "94/94 [==============================] - 1s 14ms/step - loss: 0.2668 - mse: 0.2668 - val_loss: 0.2676 - val_mse: 0.2676\n",
      "Epoch 23/50\n",
      "94/94 [==============================] - 1s 15ms/step - loss: 0.2617 - mse: 0.2617 - val_loss: 0.2716 - val_mse: 0.2716\n",
      "Epoch 24/50\n",
      "94/94 [==============================] - 2s 17ms/step - loss: 0.2610 - mse: 0.2610 - val_loss: 0.2619 - val_mse: 0.2619\n",
      "Epoch 25/50\n",
      "94/94 [==============================] - 2s 16ms/step - loss: 0.2577 - mse: 0.2577 - val_loss: 0.2705 - val_mse: 0.2705\n",
      "Epoch 26/50\n",
      "94/94 [==============================] - 2s 16ms/step - loss: 0.2576 - mse: 0.2576 - val_loss: 0.2656 - val_mse: 0.2656\n",
      "Epoch 27/50\n",
      "94/94 [==============================] - 1s 14ms/step - loss: 0.2560 - mse: 0.2560 - val_loss: 0.2626 - val_mse: 0.2626\n",
      "Epoch 28/50\n",
      "94/94 [==============================] - 1s 16ms/step - loss: 0.2545 - mse: 0.2545 - val_loss: 0.2664 - val_mse: 0.2664\n",
      "Epoch 29/50\n",
      "94/94 [==============================] - 1s 14ms/step - loss: 0.2536 - mse: 0.2536 - val_loss: 0.2654 - val_mse: 0.2654\n",
      "Epoch 30/50\n",
      "94/94 [==============================] - 1s 16ms/step - loss: 0.2544 - mse: 0.2544 - val_loss: 0.2737 - val_mse: 0.2737\n",
      "Epoch 31/50\n",
      "94/94 [==============================] - 1s 15ms/step - loss: 0.2527 - mse: 0.2527 - val_loss: 0.2809 - val_mse: 0.2809\n",
      "Epoch 32/50\n",
      "94/94 [==============================] - 1s 15ms/step - loss: 0.2548 - mse: 0.2548 - val_loss: 0.2740 - val_mse: 0.2740\n",
      "Epoch 33/50\n",
      "94/94 [==============================] - 1s 15ms/step - loss: 0.2531 - mse: 0.2531 - val_loss: 0.2709 - val_mse: 0.2709\n",
      "Epoch 34/50\n",
      "94/94 [==============================] - 1s 12ms/step - loss: 0.2517 - mse: 0.2517 - val_loss: 0.2794 - val_mse: 0.2794\n",
      "Epoch 35/50\n",
      "94/94 [==============================] - 1s 15ms/step - loss: 0.2522 - mse: 0.2522 - val_loss: 0.2708 - val_mse: 0.2708\n",
      "Epoch 36/50\n",
      "94/94 [==============================] - 1s 15ms/step - loss: 0.2521 - mse: 0.2521 - val_loss: 0.2728 - val_mse: 0.2728\n",
      "Epoch 37/50\n",
      "94/94 [==============================] - 2s 17ms/step - loss: 0.2536 - mse: 0.2536 - val_loss: 0.2652 - val_mse: 0.2652\n",
      "Epoch 38/50\n",
      "94/94 [==============================] - 2s 16ms/step - loss: 0.2517 - mse: 0.2517 - val_loss: 0.2767 - val_mse: 0.2767\n",
      "Epoch 39/50\n",
      "94/94 [==============================] - 1s 14ms/step - loss: 0.2524 - mse: 0.2524 - val_loss: 0.2707 - val_mse: 0.2707\n",
      "Epoch 40/50\n",
      "94/94 [==============================] - 1s 14ms/step - loss: 0.2501 - mse: 0.2501 - val_loss: 0.2722 - val_mse: 0.2722\n",
      "Epoch 41/50\n",
      "94/94 [==============================] - 1s 13ms/step - loss: 0.2530 - mse: 0.2530 - val_loss: 0.2657 - val_mse: 0.2657\n",
      "Epoch 42/50\n",
      "94/94 [==============================] - 1s 13ms/step - loss: 0.2508 - mse: 0.2508 - val_loss: 0.2753 - val_mse: 0.2753\n",
      "Epoch 43/50\n",
      "94/94 [==============================] - 1s 13ms/step - loss: 0.2506 - mse: 0.2506 - val_loss: 0.2767 - val_mse: 0.2767\n",
      "Epoch 44/50\n",
      "94/94 [==============================] - 1s 12ms/step - loss: 0.2502 - mse: 0.2502 - val_loss: 0.2730 - val_mse: 0.2730\n",
      "Epoch 45/50\n",
      "94/94 [==============================] - 1s 14ms/step - loss: 0.2528 - mse: 0.2528 - val_loss: 0.2808 - val_mse: 0.2808\n",
      "Epoch 46/50\n",
      "94/94 [==============================] - 1s 13ms/step - loss: 0.2512 - mse: 0.2512 - val_loss: 0.2707 - val_mse: 0.2707\n",
      "Epoch 47/50\n",
      "94/94 [==============================] - 1s 15ms/step - loss: 0.2518 - mse: 0.2518 - val_loss: 0.2671 - val_mse: 0.2671\n",
      "Epoch 48/50\n",
      "94/94 [==============================] - 1s 13ms/step - loss: 0.2504 - mse: 0.2504 - val_loss: 0.2711 - val_mse: 0.2711\n",
      "Epoch 49/50\n",
      "94/94 [==============================] - 1s 15ms/step - loss: 0.2504 - mse: 0.2504 - val_loss: 0.2681 - val_mse: 0.2681\n",
      "Epoch 50/50\n",
      "94/94 [==============================] - 1s 15ms/step - loss: 0.2505 - mse: 0.2505 - val_loss: 0.2725 - val_mse: 0.2725\n"
     ]
    }
   ],
   "source": [
    "history = model2.fit(x=x_train, y=y_train, \n",
    "          batch_size=32, epochs=50,\n",
    "          shuffle=True, # a good idea is to shuffle input before at each epoch\n",
    "          validation_data=(x_valid, y_valid))"
   ]
  },
  {
   "cell_type": "code",
   "execution_count": 51,
   "metadata": {
    "colab": {
     "base_uri": "https://localhost:8080/"
    },
    "executionInfo": {
     "elapsed": 353,
     "status": "ok",
     "timestamp": 1625679727505,
     "user": {
      "displayName": "Brandon Tatani",
      "photoUrl": "",
      "userId": "12981437968527834494"
     },
     "user_tz": -120
    },
    "id": "yM7IZ_CJnomY",
    "outputId": "7cccb4ee-2e2a-42aa-97dd-cab66c10ac0e"
   },
   "outputs": [
    {
     "name": "stdout",
     "output_type": "stream",
     "text": [
      "4/4 [==============================] - 0s 6ms/step - loss: 0.2725 - mse: 0.2725\n",
      "\n",
      "Test loss: 0.2725374400615692\n",
      "Test accuracy: 0.2725374400615692\n"
     ]
    }
   ],
   "source": [
    "# evaluate model\n",
    "score = model2.evaluate(x_valid, y_valid, batch_size=32, verbose=1)\n",
    "\n",
    "# print performance\n",
    "print()\n",
    "print('Test loss:', score[0])\n",
    "print('Test accuracy:', score[1])"
   ]
  },
  {
   "cell_type": "code",
   "execution_count": 52,
   "metadata": {
    "colab": {
     "base_uri": "https://localhost:8080/"
    },
    "executionInfo": {
     "elapsed": 391,
     "status": "ok",
     "timestamp": 1625679729046,
     "user": {
      "displayName": "Brandon Tatani",
      "photoUrl": "",
      "userId": "12981437968527834494"
     },
     "user_tz": -120
    },
    "id": "P3HfIofrnxHu",
    "outputId": "0fbf8bfc-4ebf-46e9-dcc0-89ad1cb89ea9"
   },
   "outputs": [
    {
     "name": "stdout",
     "output_type": "stream",
     "text": [
      "4/4 [==============================] - 0s 8ms/step - loss: 0.0035 - mse: 0.0035\n",
      "\n",
      "Test loss: 0.0035012676380574703\n",
      "Test accuracy: 0.0035012676380574703\n"
     ]
    }
   ],
   "source": [
    "# evaluate model with the exact curve\n",
    "score = model2.evaluate(x_valid, y_target, batch_size=32, verbose=1)\n",
    "\n",
    "# print performance\n",
    "print()\n",
    "print('Test loss:', score[0])\n",
    "print('Test accuracy:', score[1])"
   ]
  },
  {
   "cell_type": "code",
   "execution_count": 53,
   "metadata": {
    "colab": {
     "base_uri": "https://localhost:8080/",
     "height": 295
    },
    "executionInfo": {
     "elapsed": 385,
     "status": "ok",
     "timestamp": 1625679731027,
     "user": {
      "displayName": "Brandon Tatani",
      "photoUrl": "",
      "userId": "12981437968527834494"
     },
     "user_tz": -120
    },
    "id": "pDoIKVyzn0pT",
    "outputId": "01076b0e-f261-4601-d58d-459f12df799b"
   },
   "outputs": [
    {
     "data": {
      "image/png": "[encoded data removed]",
      "text/plain": [
       "<Figure size 432x288 with 1 Axes>"
      ]
     },
     "metadata": {
      "needs_background": "light"
     },
     "output_type": "display_data"
    }
   ],
   "source": [
    "# look into training history\n",
    "# Plot training & validation loss values\n",
    "plt.plot(history.history['loss'])\n",
    "plt.plot(history.history['val_loss'])\n",
    "plt.title('Model loss')\n",
    "plt.ylabel('Loss')\n",
    "plt.xlabel('Epoch')\n",
    "plt.legend(['Train', 'Test'], loc='best')\n",
    "plt.show()"
   ]
  },
  {
   "cell_type": "code",
   "execution_count": 55,
   "metadata": {
    "colab": {
     "base_uri": "https://localhost:8080/",
     "height": 265
    },
    "executionInfo": {
     "elapsed": 449,
     "status": "ok",
     "timestamp": 1625679735254,
     "user": {
      "displayName": "Brandon Tatani",
      "photoUrl": "",
      "userId": "12981437968527834494"
     },
     "user_tz": -120
    },
    "id": "QRBVXadmn4f2",
    "outputId": "7d8071a0-8a69-4f5d-f099-3bad50d10c99"
   },
   "outputs": [
    {
     "data": {
      "image/png": "[encoded data removed]",
      "text/plain": [
       "<Figure size 432x288 with 1 Axes>"
      ]
     },
     "metadata": {
      "needs_background": "light"
     },
     "output_type": "display_data"
    }
   ],
   "source": [
    "x_predicted = np.random.uniform(-1, 1, 100)\n",
    "y_predicted = model2.predict(x_predicted)\n",
    "#print(y_predicted)\n",
    "plt.scatter(x_predicted, y_predicted,color='r')\n",
    "plt.plot(x_valid, y_target)\n",
    "plt.grid(True)\n",
    "plt.show()"
   ]
  },
  {
   "cell_type": "markdown",
   "metadata": {},
   "source": [
    "To fit a polynomial function we'd assume $n+1$ parameters are needed, where $n$ is the polynomial's degree. Thus we might think that a *NN* of $n+1$ trainable parameters could do the job. This isn't garanteed due to the nature of single neurons that has a very good time fitting a straight line, thanks to the linear dependance of its output and input. This makes clear that using a single layer of $m$ neurons means fitting a function with $m$ lines. So a layer with 2 neurons(4 trainable parameters), no matter how much they have benn trained, can't fit a third degree polynomial. So a much larger layer is needed. Meanwhile the goal can be achieaved easier by adding more layers. By doing so we're giving the NN more expressiveness because we're no longer constrained by the linear nature of neurons; therefor fewer neurons will be needed. \n",
    "With an infinte amount of nodes we can fit any continous function. But adding too many isn't a good strategy, this will increase a lot the training needed and also the more complex the NN becomes the easier will be to overfit the data. On the other hand too few neurons won't have the necessary expressiveness to do the job, but will require less training and decrease the risk of overfit. So the truth is in the middle.\n",
    "Another thing that takes a big role in the ability of the NN to predict well is the training dataset. The NN will perform well in situations already seen during the training session so if the working field of NN isn't well covered its prediction might be poor."
   ]
  },
  {
   "cell_type": "markdown",
   "metadata": {
    "id": "ENLynCZhjvxi"
   },
   "source": [
    "### Exercise 11.3\n",
    "  \n",
    "Try to extend the model to fit a simple trigonometric 2D function such as $f(x,y) = \\sin(x^2+y^2)$ in the range $x \\in [-3/2,3/2]$ and $y \\in [-3/2,3/2]$."
   ]
  },
  {
   "cell_type": "code",
   "execution_count": 50,
   "metadata": {
    "executionInfo": {
     "elapsed": 506,
     "status": "ok",
     "timestamp": 1625674530268,
     "user": {
      "displayName": "Brandon Tatani",
      "photoUrl": "",
      "userId": "12981437968527834494"
     },
     "user_tz": -120
    },
    "id": "PMsOCkm-ZEex"
   },
   "outputs": [],
   "source": [
    "import numpy as np\n",
    "import matplotlib\n",
    "import matplotlib.pyplot as plt\n",
    "import math\n",
    "\n",
    "n_train = 5000\n",
    "n_valid = 500\n",
    "# generate synthetic training dataset\n",
    "x_train = np.random.uniform(-1.5, 1.5, (n_train, 2))\n",
    "y_train = np.zeros(n_train)\n",
    "# generate synthetic validation data\n",
    "x_valid = np.random.uniform(-1.5, 1.5, (n_valid, 2))\n",
    "y_valid = np.zeros((n_valid))\n",
    "\n",
    "for i in range(n_train):\n",
    "  y_train[i]= math.sin(x_train[i,0]**2 + x_train[i,1]**2)\n",
    "\n",
    "for i in range(n_valid):\n",
    "  y_valid[i]= math.sin(x_valid[i,0]**2 + x_valid[i,1]**2)\n"
   ]
  },
  {
   "cell_type": "code",
   "execution_count": 51,
   "metadata": {
    "colab": {
     "base_uri": "https://localhost:8080/",
     "height": 265
    },
    "executionInfo": {
     "elapsed": 26,
     "status": "ok",
     "timestamp": 1625674531977,
     "user": {
      "displayName": "Brandon Tatani",
      "photoUrl": "",
      "userId": "12981437968527834494"
     },
     "user_tz": -120
    },
    "id": "hVa1OjOGlRTe",
    "outputId": "e85fb260-f005-4339-bcd6-949a239d1296"
   },
   "outputs": [
    {
     "data": {
      "text/plain": [
       "<mpl_toolkits.mplot3d.art3d.Path3DCollection at 0x7f37ce508b10>"
      ]
     },
     "execution_count": 51,
     "metadata": {
      "tags": []
     },
     "output_type": "execute_result"
    },
    {
     "data": {
      "image/png": "[encoded data removed]",
      "text/plain": [
       "<Figure size 432x288 with 1 Axes>"
      ]
     },
     "metadata": {
      "needs_background": "light",
      "tags": []
     },
     "output_type": "display_data"
    }
   ],
   "source": [
    "#plt.scatter(x_train[:,0], x_train[:,1])\n",
    "#plt.plot(y_train)\n",
    "#plt.show()\n",
    "from mpl_toolkits.mplot3d import Axes3D\n",
    "#fig = plt.figure()\n",
    "ax = plt.axes(projection='3d')\n",
    "ax.scatter3D(x_train[:,0], x_train[:,1], y_train)"
   ]
  },
  {
   "cell_type": "code",
   "execution_count": 120,
   "metadata": {
    "executionInfo": {
     "elapsed": 377,
     "status": "ok",
     "timestamp": 1625675690641,
     "user": {
      "displayName": "Brandon Tatani",
      "photoUrl": "",
      "userId": "12981437968527834494"
     },
     "user_tz": -120
    },
    "id": "JHEa_w45lcIe"
   },
   "outputs": [],
   "source": [
    "# compose the NN model\n",
    "import tensorflow as tf\n",
    "from tensorflow import keras\n",
    "\n",
    "from tensorflow.keras.models import Sequential\n",
    "from tensorflow.keras.layers import Dense, Activation\n",
    "from tensorflow.keras import backend as K\n",
    "from tensorflow.keras.utils import get_custom_objects\n",
    "#from tensorflow.keras.callbaks import EarlyStopping\n",
    "\n",
    "model = tf.keras.Sequential()\n",
    "model.add(Dense(4, input_shape=(2,)))\n",
    "model.add(Dense(8, activation='elu'))\n",
    "model.add(Dense(12, activation='elu'))\n",
    "model.add(Dense(12, activation='elu'))\n",
    "model.add(Dense(8, activation='elu'))\n",
    "model.add(Dense(4, activation='elu'))\n",
    "model.add(Dense(1, activation='elu'))\n",
    "\n",
    "# compile the model choosing optimizer, loss and metrics objects\n",
    "model.compile(optimizer='sgd', loss='mse', metrics=['mse'])"
   ]
  },
  {
   "cell_type": "code",
   "execution_count": 121,
   "metadata": {
    "colab": {
     "base_uri": "https://localhost:8080/"
    },
    "executionInfo": {
     "elapsed": 14,
     "status": "ok",
     "timestamp": 1625675692641,
     "user": {
      "displayName": "Brandon Tatani",
      "photoUrl": "",
      "userId": "12981437968527834494"
     },
     "user_tz": -120
    },
    "id": "EjB5S1Jgulbc",
    "outputId": "d8295369-1aa8-470d-91cc-1a4084289495"
   },
   "outputs": [
    {
     "name": "stdout",
     "output_type": "stream",
     "text": [
      "Model: \"sequential_16\"\n",
      "_________________________________________________________________\n",
      "Layer (type)                 Output Shape              Param #   \n",
      "=================================================================\n",
      "dense_92 (Dense)             (None, 4)                 12        \n",
      "_________________________________________________________________\n",
      "dense_93 (Dense)             (None, 8)                 40        \n",
      "_________________________________________________________________\n",
      "dense_94 (Dense)             (None, 12)                108       \n",
      "_________________________________________________________________\n",
      "dense_95 (Dense)             (None, 12)                156       \n",
      "_________________________________________________________________\n",
      "dense_96 (Dense)             (None, 8)                 104       \n",
      "_________________________________________________________________\n",
      "dense_97 (Dense)             (None, 4)                 36        \n",
      "_________________________________________________________________\n",
      "dense_98 (Dense)             (None, 1)                 5         \n",
      "=================================================================\n",
      "Total params: 461\n",
      "Trainable params: 461\n",
      "Non-trainable params: 0\n",
      "_________________________________________________________________\n"
     ]
    }
   ],
   "source": [
    "# get a summary of our composed model\n",
    "model.summary()"
   ]
  },
  {
   "cell_type": "code",
   "execution_count": 122,
   "metadata": {
    "colab": {
     "base_uri": "https://localhost:8080/"
    },
    "executionInfo": {
     "elapsed": 27523,
     "status": "ok",
     "timestamp": 1625675739496,
     "user": {
      "displayName": "Brandon Tatani",
      "photoUrl": "",
      "userId": "12981437968527834494"
     },
     "user_tz": -120
    },
    "id": "S640L1HDr9KF",
    "outputId": "b69980ea-aa89-4c79-9238-500bd7603157"
   },
   "outputs": [
    {
     "name": "stdout",
     "output_type": "stream",
     "text": [
      "Epoch 1/500\n",
      "157/157 [==============================] - 1s 2ms/step - loss: 0.1756 - mse: 0.1756 - val_loss: 0.1343 - val_mse: 0.1343\n",
      "Epoch 2/500\n",
      "157/157 [==============================] - 0s 1ms/step - loss: 0.1503 - mse: 0.1503 - val_loss: 0.1333 - val_mse: 0.1333\n",
      "Epoch 3/500\n",
      "157/157 [==============================] - 0s 1ms/step - loss: 0.1483 - mse: 0.1483 - val_loss: 0.1320 - val_mse: 0.1320\n",
      "Epoch 4/500\n",
      "157/157 [==============================] - 0s 1ms/step - loss: 0.1462 - mse: 0.1462 - val_loss: 0.1306 - val_mse: 0.1306\n",
      "Epoch 5/500\n",
      "157/157 [==============================] - 0s 1ms/step - loss: 0.1437 - mse: 0.1437 - val_loss: 0.1268 - val_mse: 0.1268\n",
      "Epoch 6/500\n",
      "157/157 [==============================] - 0s 1ms/step - loss: 0.1413 - mse: 0.1413 - val_loss: 0.1263 - val_mse: 0.1263\n",
      "Epoch 7/500\n",
      "157/157 [==============================] - 0s 1ms/step - loss: 0.1384 - mse: 0.1384 - val_loss: 0.1237 - val_mse: 0.1237\n",
      "Epoch 8/500\n",
      "157/157 [==============================] - 0s 1ms/step - loss: 0.1348 - mse: 0.1348 - val_loss: 0.1197 - val_mse: 0.1197\n",
      "Epoch 9/500\n",
      "157/157 [==============================] - 0s 1ms/step - loss: 0.1309 - mse: 0.1309 - val_loss: 0.1159 - val_mse: 0.1159\n",
      "Epoch 10/500\n",
      "157/157 [==============================] - 0s 1ms/step - loss: 0.1263 - mse: 0.1263 - val_loss: 0.1105 - val_mse: 0.1105\n",
      "Epoch 11/500\n",
      "157/157 [==============================] - 0s 2ms/step - loss: 0.1200 - mse: 0.1200 - val_loss: 0.1021 - val_mse: 0.1021\n",
      "Epoch 12/500\n",
      "157/157 [==============================] - 0s 1ms/step - loss: 0.1120 - mse: 0.1120 - val_loss: 0.0966 - val_mse: 0.0966\n",
      "Epoch 13/500\n",
      "157/157 [==============================] - 0s 2ms/step - loss: 0.1002 - mse: 0.1002 - val_loss: 0.0826 - val_mse: 0.0826\n",
      "Epoch 14/500\n",
      "157/157 [==============================] - 0s 1ms/step - loss: 0.0835 - mse: 0.0835 - val_loss: 0.0630 - val_mse: 0.0630\n",
      "Epoch 15/500\n",
      "157/157 [==============================] - 0s 2ms/step - loss: 0.0646 - mse: 0.0646 - val_loss: 0.0457 - val_mse: 0.0457\n",
      "Epoch 16/500\n",
      "157/157 [==============================] - 0s 1ms/step - loss: 0.0501 - mse: 0.0501 - val_loss: 0.0387 - val_mse: 0.0387\n",
      "Epoch 17/500\n",
      "157/157 [==============================] - 0s 1ms/step - loss: 0.0425 - mse: 0.0425 - val_loss: 0.0323 - val_mse: 0.0323\n",
      "Epoch 18/500\n",
      "157/157 [==============================] - 0s 1ms/step - loss: 0.0381 - mse: 0.0381 - val_loss: 0.0319 - val_mse: 0.0319\n",
      "Epoch 19/500\n",
      "157/157 [==============================] - 0s 1ms/step - loss: 0.0362 - mse: 0.0362 - val_loss: 0.0287 - val_mse: 0.0287\n",
      "Epoch 20/500\n",
      "157/157 [==============================] - 0s 1ms/step - loss: 0.0344 - mse: 0.0344 - val_loss: 0.0270 - val_mse: 0.0270\n",
      "Epoch 21/500\n",
      "157/157 [==============================] - 0s 1ms/step - loss: 0.0331 - mse: 0.0331 - val_loss: 0.0262 - val_mse: 0.0262\n",
      "Epoch 22/500\n",
      "157/157 [==============================] - 0s 1ms/step - loss: 0.0320 - mse: 0.0320 - val_loss: 0.0250 - val_mse: 0.0250\n",
      "Epoch 23/500\n",
      "157/157 [==============================] - 0s 1ms/step - loss: 0.0310 - mse: 0.0310 - val_loss: 0.0241 - val_mse: 0.0241\n",
      "Epoch 24/500\n",
      "157/157 [==============================] - 0s 1ms/step - loss: 0.0304 - mse: 0.0304 - val_loss: 0.0244 - val_mse: 0.0244\n",
      "Epoch 25/500\n",
      "157/157 [==============================] - 0s 1ms/step - loss: 0.0294 - mse: 0.0294 - val_loss: 0.0239 - val_mse: 0.0239\n",
      "Epoch 26/500\n",
      "157/157 [==============================] - 0s 1ms/step - loss: 0.0287 - mse: 0.0287 - val_loss: 0.0220 - val_mse: 0.0220\n",
      "Epoch 27/500\n",
      "157/157 [==============================] - 0s 1ms/step - loss: 0.0281 - mse: 0.0281 - val_loss: 0.0223 - val_mse: 0.0223\n",
      "Epoch 28/500\n",
      "157/157 [==============================] - 0s 1ms/step - loss: 0.0275 - mse: 0.0275 - val_loss: 0.0213 - val_mse: 0.0213\n",
      "Epoch 29/500\n",
      "157/157 [==============================] - 0s 2ms/step - loss: 0.0268 - mse: 0.0268 - val_loss: 0.0207 - val_mse: 0.0207\n",
      "Epoch 30/500\n",
      "157/157 [==============================] - 0s 2ms/step - loss: 0.0263 - mse: 0.0263 - val_loss: 0.0200 - val_mse: 0.0200\n",
      "Epoch 31/500\n",
      "157/157 [==============================] - 0s 1ms/step - loss: 0.0257 - mse: 0.0257 - val_loss: 0.0202 - val_mse: 0.0202\n",
      "Epoch 32/500\n",
      "157/157 [==============================] - 0s 1ms/step - loss: 0.0253 - mse: 0.0253 - val_loss: 0.0193 - val_mse: 0.0193\n",
      "Epoch 33/500\n",
      "157/157 [==============================] - 0s 2ms/step - loss: 0.0246 - mse: 0.0246 - val_loss: 0.0187 - val_mse: 0.0187\n",
      "Epoch 34/500\n",
      "157/157 [==============================] - 0s 2ms/step - loss: 0.0240 - mse: 0.0240 - val_loss: 0.0182 - val_mse: 0.0182\n",
      "Epoch 35/500\n",
      "157/157 [==============================] - 0s 1ms/step - loss: 0.0235 - mse: 0.0235 - val_loss: 0.0180 - val_mse: 0.0180\n",
      "Epoch 36/500\n",
      "157/157 [==============================] - 0s 1ms/step - loss: 0.0229 - mse: 0.0229 - val_loss: 0.0175 - val_mse: 0.0175\n",
      "Epoch 37/500\n",
      "157/157 [==============================] - 0s 2ms/step - loss: 0.0224 - mse: 0.0224 - val_loss: 0.0175 - val_mse: 0.0175\n",
      "Epoch 38/500\n",
      "157/157 [==============================] - 0s 2ms/step - loss: 0.0219 - mse: 0.0219 - val_loss: 0.0184 - val_mse: 0.0184\n",
      "Epoch 39/500\n",
      "157/157 [==============================] - 0s 1ms/step - loss: 0.0212 - mse: 0.0212 - val_loss: 0.0167 - val_mse: 0.0167\n",
      "Epoch 40/500\n",
      "157/157 [==============================] - 0s 1ms/step - loss: 0.0208 - mse: 0.0208 - val_loss: 0.0167 - val_mse: 0.0167\n",
      "Epoch 41/500\n",
      "157/157 [==============================] - 0s 2ms/step - loss: 0.0201 - mse: 0.0201 - val_loss: 0.0201 - val_mse: 0.0201\n",
      "Epoch 42/500\n",
      "157/157 [==============================] - 0s 1ms/step - loss: 0.0196 - mse: 0.0196 - val_loss: 0.0179 - val_mse: 0.0179\n",
      "Epoch 43/500\n",
      "157/157 [==============================] - 0s 1ms/step - loss: 0.0192 - mse: 0.0192 - val_loss: 0.0145 - val_mse: 0.0145\n",
      "Epoch 44/500\n",
      "157/157 [==============================] - 0s 1ms/step - loss: 0.0185 - mse: 0.0185 - val_loss: 0.0138 - val_mse: 0.0138\n",
      "Epoch 45/500\n",
      "157/157 [==============================] - 0s 1ms/step - loss: 0.0179 - mse: 0.0179 - val_loss: 0.0135 - val_mse: 0.0135\n",
      "Epoch 46/500\n",
      "157/157 [==============================] - 0s 1ms/step - loss: 0.0174 - mse: 0.0174 - val_loss: 0.0129 - val_mse: 0.0129\n",
      "Epoch 47/500\n",
      "157/157 [==============================] - 0s 1ms/step - loss: 0.0168 - mse: 0.0168 - val_loss: 0.0125 - val_mse: 0.0125\n",
      "Epoch 48/500\n",
      "157/157 [==============================] - 0s 1ms/step - loss: 0.0162 - mse: 0.0162 - val_loss: 0.0133 - val_mse: 0.0133\n",
      "Epoch 49/500\n",
      "157/157 [==============================] - 0s 1ms/step - loss: 0.0156 - mse: 0.0156 - val_loss: 0.0127 - val_mse: 0.0127\n",
      "Epoch 50/500\n",
      "157/157 [==============================] - 0s 2ms/step - loss: 0.0150 - mse: 0.0150 - val_loss: 0.0112 - val_mse: 0.0112\n",
      "Epoch 51/500\n",
      "157/157 [==============================] - 0s 1ms/step - loss: 0.0147 - mse: 0.0147 - val_loss: 0.0115 - val_mse: 0.0115\n",
      "Epoch 52/500\n",
      "157/157 [==============================] - 0s 1ms/step - loss: 0.0140 - mse: 0.0140 - val_loss: 0.0111 - val_mse: 0.0111\n",
      "Epoch 53/500\n",
      "157/157 [==============================] - 0s 1ms/step - loss: 0.0134 - mse: 0.0134 - val_loss: 0.0111 - val_mse: 0.0111\n",
      "Epoch 54/500\n",
      "157/157 [==============================] - 0s 2ms/step - loss: 0.0129 - mse: 0.0129 - val_loss: 0.0099 - val_mse: 0.0099\n",
      "Epoch 55/500\n",
      "157/157 [==============================] - 0s 1ms/step - loss: 0.0125 - mse: 0.0125 - val_loss: 0.0101 - val_mse: 0.0101\n",
      "Epoch 56/500\n",
      "157/157 [==============================] - 0s 2ms/step - loss: 0.0120 - mse: 0.0120 - val_loss: 0.0088 - val_mse: 0.0088\n",
      "Epoch 57/500\n",
      "157/157 [==============================] - 0s 2ms/step - loss: 0.0116 - mse: 0.0116 - val_loss: 0.0090 - val_mse: 0.0090\n",
      "Epoch 58/500\n",
      "157/157 [==============================] - 0s 1ms/step - loss: 0.0112 - mse: 0.0112 - val_loss: 0.0081 - val_mse: 0.0081\n",
      "Epoch 59/500\n",
      "157/157 [==============================] - 0s 2ms/step - loss: 0.0108 - mse: 0.0108 - val_loss: 0.0082 - val_mse: 0.0082\n",
      "Epoch 60/500\n",
      "157/157 [==============================] - 0s 2ms/step - loss: 0.0103 - mse: 0.0103 - val_loss: 0.0086 - val_mse: 0.0086\n",
      "Epoch 61/500\n",
      "157/157 [==============================] - 0s 2ms/step - loss: 0.0099 - mse: 0.0099 - val_loss: 0.0081 - val_mse: 0.0081\n",
      "Epoch 62/500\n",
      "157/157 [==============================] - 0s 1ms/step - loss: 0.0097 - mse: 0.0097 - val_loss: 0.0073 - val_mse: 0.0073\n",
      "Epoch 63/500\n",
      "157/157 [==============================] - 0s 1ms/step - loss: 0.0093 - mse: 0.0093 - val_loss: 0.0068 - val_mse: 0.0068\n",
      "Epoch 64/500\n",
      "157/157 [==============================] - 0s 1ms/step - loss: 0.0089 - mse: 0.0089 - val_loss: 0.0070 - val_mse: 0.0070\n",
      "Epoch 65/500\n",
      "157/157 [==============================] - 0s 1ms/step - loss: 0.0086 - mse: 0.0086 - val_loss: 0.0064 - val_mse: 0.0064\n",
      "Epoch 66/500\n",
      "157/157 [==============================] - 0s 1ms/step - loss: 0.0083 - mse: 0.0083 - val_loss: 0.0071 - val_mse: 0.0071\n",
      "Epoch 67/500\n",
      "157/157 [==============================] - 0s 1ms/step - loss: 0.0080 - mse: 0.0080 - val_loss: 0.0079 - val_mse: 0.0079\n",
      "Epoch 68/500\n",
      "157/157 [==============================] - 0s 1ms/step - loss: 0.0078 - mse: 0.0078 - val_loss: 0.0059 - val_mse: 0.0059\n",
      "Epoch 69/500\n",
      "157/157 [==============================] - 0s 1ms/step - loss: 0.0075 - mse: 0.0075 - val_loss: 0.0061 - val_mse: 0.0061\n",
      "Epoch 70/500\n",
      "157/157 [==============================] - 0s 1ms/step - loss: 0.0072 - mse: 0.0072 - val_loss: 0.0065 - val_mse: 0.0065\n",
      "Epoch 71/500\n",
      "157/157 [==============================] - 0s 1ms/step - loss: 0.0070 - mse: 0.0070 - val_loss: 0.0053 - val_mse: 0.0053\n",
      "Epoch 72/500\n",
      "157/157 [==============================] - 0s 1ms/step - loss: 0.0068 - mse: 0.0068 - val_loss: 0.0058 - val_mse: 0.0058\n",
      "Epoch 73/500\n",
      "157/157 [==============================] - 0s 1ms/step - loss: 0.0066 - mse: 0.0066 - val_loss: 0.0051 - val_mse: 0.0051\n",
      "Epoch 74/500\n",
      "157/157 [==============================] - 0s 1ms/step - loss: 0.0064 - mse: 0.0064 - val_loss: 0.0047 - val_mse: 0.0047\n",
      "Epoch 75/500\n",
      "157/157 [==============================] - 0s 1ms/step - loss: 0.0063 - mse: 0.0063 - val_loss: 0.0048 - val_mse: 0.0048\n",
      "Epoch 76/500\n",
      "157/157 [==============================] - 0s 2ms/step - loss: 0.0060 - mse: 0.0060 - val_loss: 0.0044 - val_mse: 0.0044\n",
      "Epoch 77/500\n",
      "157/157 [==============================] - 0s 1ms/step - loss: 0.0059 - mse: 0.0059 - val_loss: 0.0054 - val_mse: 0.0054\n",
      "Epoch 78/500\n",
      "157/157 [==============================] - 0s 1ms/step - loss: 0.0057 - mse: 0.0057 - val_loss: 0.0049 - val_mse: 0.0049\n",
      "Epoch 79/500\n",
      "157/157 [==============================] - 0s 1ms/step - loss: 0.0056 - mse: 0.0056 - val_loss: 0.0047 - val_mse: 0.0047\n",
      "Epoch 80/500\n",
      "157/157 [==============================] - 0s 1ms/step - loss: 0.0054 - mse: 0.0054 - val_loss: 0.0040 - val_mse: 0.0040\n",
      "Epoch 81/500\n",
      "157/157 [==============================] - 0s 1ms/step - loss: 0.0052 - mse: 0.0052 - val_loss: 0.0044 - val_mse: 0.0044\n",
      "Epoch 82/500\n",
      "157/157 [==============================] - 0s 1ms/step - loss: 0.0051 - mse: 0.0051 - val_loss: 0.0038 - val_mse: 0.0038\n",
      "Epoch 83/500\n",
      "157/157 [==============================] - 0s 2ms/step - loss: 0.0050 - mse: 0.0050 - val_loss: 0.0037 - val_mse: 0.0037\n",
      "Epoch 84/500\n",
      "157/157 [==============================] - 0s 2ms/step - loss: 0.0049 - mse: 0.0049 - val_loss: 0.0040 - val_mse: 0.0040\n",
      "Epoch 85/500\n",
      "157/157 [==============================] - 0s 1ms/step - loss: 0.0048 - mse: 0.0048 - val_loss: 0.0035 - val_mse: 0.0035\n",
      "Epoch 86/500\n",
      "157/157 [==============================] - 0s 2ms/step - loss: 0.0046 - mse: 0.0046 - val_loss: 0.0036 - val_mse: 0.0036\n",
      "Epoch 87/500\n",
      "157/157 [==============================] - 0s 1ms/step - loss: 0.0045 - mse: 0.0045 - val_loss: 0.0036 - val_mse: 0.0036\n",
      "Epoch 88/500\n",
      "157/157 [==============================] - 0s 1ms/step - loss: 0.0044 - mse: 0.0044 - val_loss: 0.0033 - val_mse: 0.0033\n",
      "Epoch 89/500\n",
      "157/157 [==============================] - 0s 2ms/step - loss: 0.0043 - mse: 0.0043 - val_loss: 0.0036 - val_mse: 0.0036\n",
      "Epoch 90/500\n",
      "157/157 [==============================] - 0s 1ms/step - loss: 0.0042 - mse: 0.0042 - val_loss: 0.0034 - val_mse: 0.0034\n",
      "Epoch 91/500\n",
      "157/157 [==============================] - 0s 1ms/step - loss: 0.0041 - mse: 0.0041 - val_loss: 0.0032 - val_mse: 0.0032\n",
      "Epoch 92/500\n",
      "157/157 [==============================] - 0s 1ms/step - loss: 0.0040 - mse: 0.0040 - val_loss: 0.0035 - val_mse: 0.0035\n",
      "Epoch 93/500\n",
      "157/157 [==============================] - 0s 2ms/step - loss: 0.0040 - mse: 0.0040 - val_loss: 0.0033 - val_mse: 0.0033\n",
      "Epoch 94/500\n",
      "157/157 [==============================] - 0s 2ms/step - loss: 0.0039 - mse: 0.0039 - val_loss: 0.0029 - val_mse: 0.0029\n",
      "Epoch 95/500\n",
      "157/157 [==============================] - 0s 1ms/step - loss: 0.0038 - mse: 0.0038 - val_loss: 0.0031 - val_mse: 0.0031\n",
      "Epoch 96/500\n",
      "157/157 [==============================] - 0s 2ms/step - loss: 0.0037 - mse: 0.0037 - val_loss: 0.0050 - val_mse: 0.0050\n",
      "Epoch 97/500\n",
      "157/157 [==============================] - 0s 2ms/step - loss: 0.0036 - mse: 0.0036 - val_loss: 0.0027 - val_mse: 0.0027\n",
      "Epoch 98/500\n",
      "157/157 [==============================] - 0s 2ms/step - loss: 0.0036 - mse: 0.0036 - val_loss: 0.0027 - val_mse: 0.0027\n",
      "Epoch 99/500\n",
      "157/157 [==============================] - 0s 2ms/step - loss: 0.0035 - mse: 0.0035 - val_loss: 0.0027 - val_mse: 0.0027\n",
      "Epoch 100/500\n",
      "157/157 [==============================] - 0s 1ms/step - loss: 0.0034 - mse: 0.0034 - val_loss: 0.0028 - val_mse: 0.0028\n",
      "Epoch 101/500\n",
      "157/157 [==============================] - 0s 2ms/step - loss: 0.0034 - mse: 0.0034 - val_loss: 0.0029 - val_mse: 0.0029\n",
      "Epoch 102/500\n",
      "157/157 [==============================] - 0s 2ms/step - loss: 0.0033 - mse: 0.0033 - val_loss: 0.0027 - val_mse: 0.0027\n",
      "Epoch 103/500\n",
      "157/157 [==============================] - 0s 1ms/step - loss: 0.0032 - mse: 0.0032 - val_loss: 0.0025 - val_mse: 0.0025\n",
      "Epoch 104/500\n",
      "157/157 [==============================] - 0s 1ms/step - loss: 0.0032 - mse: 0.0032 - val_loss: 0.0032 - val_mse: 0.0032\n",
      "Epoch 105/500\n",
      "157/157 [==============================] - 0s 2ms/step - loss: 0.0032 - mse: 0.0032 - val_loss: 0.0027 - val_mse: 0.0027\n",
      "Epoch 106/500\n",
      "157/157 [==============================] - 0s 1ms/step - loss: 0.0031 - mse: 0.0031 - val_loss: 0.0023 - val_mse: 0.0023\n",
      "Epoch 107/500\n",
      "157/157 [==============================] - 0s 1ms/step - loss: 0.0030 - mse: 0.0030 - val_loss: 0.0023 - val_mse: 0.0023\n",
      "Epoch 108/500\n",
      "157/157 [==============================] - 0s 2ms/step - loss: 0.0029 - mse: 0.0029 - val_loss: 0.0024 - val_mse: 0.0024\n",
      "Epoch 109/500\n",
      "157/157 [==============================] - 0s 1ms/step - loss: 0.0029 - mse: 0.0029 - val_loss: 0.0024 - val_mse: 0.0024\n",
      "Epoch 110/500\n",
      "157/157 [==============================] - 0s 1ms/step - loss: 0.0029 - mse: 0.0029 - val_loss: 0.0037 - val_mse: 0.0037\n",
      "Epoch 111/500\n",
      "157/157 [==============================] - 0s 1ms/step - loss: 0.0029 - mse: 0.0029 - val_loss: 0.0024 - val_mse: 0.0024\n",
      "Epoch 112/500\n",
      "157/157 [==============================] - 0s 1ms/step - loss: 0.0028 - mse: 0.0028 - val_loss: 0.0026 - val_mse: 0.0026\n"
     ]
    }
   ],
   "source": [
    "callback = tf.keras.callbacks.EarlyStopping(monitor='val_loss', patience=5)\n",
    "\n",
    "bsize = 32\n",
    "# fit the model using training dataset\n",
    "# over 50 epochs of 32 batch size each\n",
    "# report training progress against validation data\n",
    "history = model.fit(x=x_train, y=y_train, \n",
    "          batch_size=bsize, epochs=500, callbacks= [callback], \n",
    "          validation_data=(x_valid, y_valid))"
   ]
  },
  {
   "cell_type": "code",
   "execution_count": 123,
   "metadata": {
    "colab": {
     "base_uri": "https://localhost:8080/"
    },
    "executionInfo": {
     "elapsed": 766,
     "status": "ok",
     "timestamp": 1625675784631,
     "user": {
      "displayName": "Brandon Tatani",
      "photoUrl": "",
      "userId": "12981437968527834494"
     },
     "user_tz": -120
    },
    "id": "UcHoIv2gsoMN",
    "outputId": "47b1cd6d-01b0-44e4-ce35-fdfc40652442"
   },
   "outputs": [
    {
     "name": "stdout",
     "output_type": "stream",
     "text": [
      "16/16 [==============================] - 0s 1ms/step - loss: 0.0026 - mse: 0.0026\n",
      "\n",
      "Test loss: 0.002603172790259123\n",
      "Test accuracy: 0.002603172790259123\n"
     ]
    }
   ],
   "source": [
    "# evaluate model\n",
    "score = model.evaluate(x_valid, y_valid, batch_size=32, verbose=1)\n",
    "\n",
    "# print performance\n",
    "print()\n",
    "print('Test loss:', score[0])\n",
    "print('Test accuracy:', score[1])"
   ]
  },
  {
   "cell_type": "code",
   "execution_count": 124,
   "metadata": {
    "colab": {
     "base_uri": "https://localhost:8080/",
     "height": 295
    },
    "executionInfo": {
     "elapsed": 26,
     "status": "ok",
     "timestamp": 1625675787557,
     "user": {
      "displayName": "Brandon Tatani",
      "photoUrl": "",
      "userId": "12981437968527834494"
     },
     "user_tz": -120
    },
    "id": "bcko8_q1ur15",
    "outputId": "2a5f716e-42c7-4ea6-d1e7-c30c449fddd1"
   },
   "outputs": [
    {
     "data": {
      "image/png": "[encoded data removed]",
      "text/plain": [
       "<Figure size 432x288 with 1 Axes>"
      ]
     },
     "metadata": {
      "needs_background": "light",
      "tags": []
     },
     "output_type": "display_data"
    }
   ],
   "source": [
    "# look into training history\n",
    "# Plot training & validation loss values\n",
    "plt.plot(history.history['loss'])\n",
    "plt.plot(history.history['val_loss'])\n",
    "plt.title('Model loss')\n",
    "plt.ylabel('Loss')\n",
    "plt.xlabel('Epoch')\n",
    "plt.legend(['Train', 'Test'], loc='best')\n",
    "plt.show()"
   ]
  },
  {
   "cell_type": "code",
   "execution_count": 129,
   "metadata": {
    "colab": {
     "base_uri": "https://localhost:8080/",
     "height": 411
    },
    "executionInfo": {
     "elapsed": 1068,
     "status": "ok",
     "timestamp": 1625676009409,
     "user": {
      "displayName": "Brandon Tatani",
      "photoUrl": "",
      "userId": "12981437968527834494"
     },
     "user_tz": -120
    },
    "id": "40V4y0KIuwyY",
    "outputId": "aa7be222-80f9-4f44-e568-e5c0581e91d4",
    "scrolled": false
   },
   "outputs": [
    {
     "data": {
      "image/png": "[encoded data removed]",
      "text/plain": [
       "<Figure size 720x504 with 1 Axes>"
      ]
     },
     "metadata": {
      "needs_background": "light",
      "tags": []
     },
     "output_type": "display_data"
    }
   ],
   "source": [
    "x_predicted = np.random.uniform(-1.5, 1.5, (n_valid, 2))\n",
    "y_predicted = model.predict(x_predicted)\n",
    "y_target = np.zeros(n_valid)\n",
    "for i in range(n_valid):\n",
    "  y_target[i]= math.sin(x_predicted[i,0]**2 + x_predicted[i,1]**2)\n",
    "\n",
    "plt.figure(figsize=(10,7))\n",
    "ax = plt.axes(projection='3d')\n",
    "ax.scatter3D(x_predicted[:,0], x_predicted[:,1], y_predicted, label='predicted')\n",
    "ax.scatter3D(x_predicted[:,0], x_predicted[:,1], y_target, label = 'exact')\n",
    "plt.grid(True)\n",
    "plt.legend()\n",
    "plt.show()"
   ]
  }
 ],
 "metadata": {
  "colab": {
   "collapsed_sections": [],
   "name": "Esercizi_11.ipynb",
   "provenance": []
  },
  "kernelspec": {
   "display_name": "Python 3",
   "language": "python",
   "name": "python3"
  },
  "language_info": {
   "codemirror_mode": {
    "name": "ipython",
    "version": 3
   },
   "file_extension": ".py",
   "mimetype": "text/x-python",
   "name": "python",
   "nbconvert_exporter": "python",
   "pygments_lexer": "ipython3",
   "version": "3.8.5"
  }
 },
 "nbformat": 4,
 "nbformat_minor": 1
}
